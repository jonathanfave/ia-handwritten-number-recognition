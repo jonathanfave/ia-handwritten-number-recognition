{
 "cells": [
  {
   "cell_type": "markdown",
   "metadata": {},
   "source": [
    "# IA Deep Learning : Handwritten number recognition\n",
    "\n",
    "- The aim will be to build a neural network that recognises handwritten digits. We will use the classic dataset [MNIST](http://yann.lecun.com/exdb/mnist/).\n",
    "\n",
    "- We will consider a \"dense\" architecture (no Convolution here). Images will therefore be considered as vectors of size 28*28."
   ]
  },
  {
   "cell_type": "markdown",
   "metadata": {},
   "source": [
    "## Loading and reading data\n",
    "- library needed for the rest of the project"
   ]
  },
  {
   "cell_type": "code",
   "execution_count": 1,
   "metadata": {},
   "outputs": [],
   "source": [
    "import torch\n",
    "import torchmetrics\n",
    "from torch.utils.data import Dataset\n",
    "from torch.utils.data.dataloader import Dataset\n",
    "from torch.utils.data import DataLoader\n",
    "from torchvision import datasets\n",
    "from torchvision.transforms import ToTensor\n",
    "from torchvision.transforms import Lambda\n",
    "from torchvision.transforms import Compose\n",
    "import matplotlib.pyplot as plt\n",
    "from torch import autograd as autograd\n",
    "from torch.autograd import grad\n",
    "import torch.nn as nn\n",
    "import torch.optim as optim"
   ]
  },
  {
   "cell_type": "code",
   "execution_count": 2,
   "metadata": {},
   "outputs": [],
   "source": [
    "# Create a composition of the two transformations to be applied to the images\n",
    "Compose_transform = Compose([\n",
    "    ToTensor(),\n",
    "    Lambda(lambda x: torch.flatten(x))\n",
    "])\n",
    "\n",
    "training_data = datasets.MNIST(\n",
    "    root=\"data\",\n",
    "    train=True,\n",
    "    download=True,\n",
    "    transform = Compose_transform\n",
    ")\n",
    "\n",
    "test_data = datasets.MNIST(\n",
    "    root=\"data\",\n",
    "    train=False,\n",
    "    download=True,\n",
    "    transform = Compose_transform\n",
    ")"
   ]
  },
  {
   "cell_type": "code",
   "execution_count": 3,
   "metadata": {},
   "outputs": [],
   "source": [
    "# Create `DataLoaders` for training and test datasets.\n",
    "# 64 images per batch\n",
    "train_dataloader = DataLoader(training_data, batch_size=64, shuffle=True)\n",
    "test_dataloader = DataLoader(test_data, batch_size=64, shuffle=True)"
   ]
  },
  {
   "cell_type": "code",
   "execution_count": 4,
   "metadata": {},
   "outputs": [
    {
     "name": "stdout",
     "output_type": "stream",
     "text": [
      "Shape of X [N, C, H, W]:  torch.Size([64, 784])\n",
      "Shape of y:  torch.Size([64]) torch.int64\n",
      "Exemple of X value :  tensor([0.0000, 0.0000, 0.0000, 0.0000, 0.0000, 0.0000, 0.0000, 0.0000, 0.0000,\n",
      "        0.0000, 0.0000, 0.0000, 0.0000, 0.0000, 0.0000, 0.0000, 0.0000, 0.0000,\n",
      "        0.0000, 0.0000, 0.0000, 0.0000, 0.0000, 0.0000, 0.0000, 0.0000, 0.0000,\n",
      "        0.0000, 0.0000, 0.0000, 0.0000, 0.0000, 0.0000, 0.0000, 0.0000, 0.0000,\n",
      "        0.0000, 0.0000, 0.0000, 0.0000, 0.0000, 0.0000, 0.0000, 0.0000, 0.0000,\n",
      "        0.0000, 0.0000, 0.0000, 0.0000, 0.0000, 0.0000, 0.0000, 0.0000, 0.0000,\n",
      "        0.0000, 0.0000, 0.0000, 0.0000, 0.0000, 0.0000, 0.0000, 0.0000, 0.0000,\n",
      "        0.0000, 0.0000, 0.0000, 0.0000, 0.0196, 0.2314, 0.6431, 0.4039, 0.0000,\n",
      "        0.0000, 0.0000, 0.0000, 0.0000, 0.0000, 0.0000, 0.0000, 0.0000, 0.0000,\n",
      "        0.0000, 0.0000, 0.0000, 0.0000, 0.0000, 0.0000, 0.0000, 0.0000, 0.0000,\n",
      "        0.0000, 0.0000, 0.0000, 0.0000, 0.0000, 0.4314, 0.9843, 0.9843, 0.9843,\n",
      "        0.0000, 0.0000, 0.0000, 0.0000, 0.0000, 0.0000, 0.0000, 0.0000, 0.0000,\n",
      "        0.0000, 0.0000, 0.0000, 0.0000, 0.0000, 0.0000, 0.0000, 0.0000, 0.0000,\n",
      "        0.0000, 0.0000, 0.0000, 0.0000, 0.0000, 0.0000, 0.8392, 0.9843, 0.9843,\n",
      "        0.4549, 0.0000, 0.0000, 0.0000, 0.0000, 0.0000, 0.0000, 0.0000, 0.0000,\n",
      "        0.0000, 0.0000, 0.0000, 0.0000, 0.0000, 0.0000, 0.0000, 0.0000, 0.0000,\n",
      "        0.0000, 0.0000, 0.0000, 0.0000, 0.0000, 0.0000, 0.0980, 0.8588, 0.9373,\n",
      "        0.4196, 0.0157, 0.0000, 0.0000, 0.0000, 0.0000, 0.0000, 0.0000, 0.0000,\n",
      "        0.0000, 0.0000, 0.0000, 0.0000, 0.0000, 0.0000, 0.0000, 0.0000, 0.0000,\n",
      "        0.0000, 0.0000, 0.0000, 0.0000, 0.0000, 0.0627, 0.3843, 0.7529, 0.9843,\n",
      "        0.6784, 0.0000, 0.0000, 0.0000, 0.0000, 0.0000, 0.0000, 0.0000, 0.0000,\n",
      "        0.0000, 0.0000, 0.0000, 0.0000, 0.0000, 0.0000, 0.0000, 0.0000, 0.0000,\n",
      "        0.0000, 0.0000, 0.0000, 0.0000, 0.0000, 0.0000, 0.1529, 0.9843, 0.9843,\n",
      "        0.9373, 0.2588, 0.0000, 0.0000, 0.0000, 0.0000, 0.0000, 0.0000, 0.0000,\n",
      "        0.0000, 0.0000, 0.0000, 0.0000, 0.0000, 0.0000, 0.0000, 0.0000, 0.0000,\n",
      "        0.0000, 0.0000, 0.0000, 0.0000, 0.0000, 0.0392, 0.6078, 0.8588, 0.9843,\n",
      "        0.9843, 0.2588, 0.0000, 0.0000, 0.0000, 0.0000, 0.0000, 0.0000, 0.0000,\n",
      "        0.0000, 0.0000, 0.0000, 0.0000, 0.0000, 0.0000, 0.0000, 0.0000, 0.0000,\n",
      "        0.0000, 0.0000, 0.0000, 0.0000, 0.0000, 0.0000, 0.4588, 0.9843, 0.9843,\n",
      "        0.9843, 0.9843, 0.1451, 0.0000, 0.0000, 0.0000, 0.0000, 0.0000, 0.2157,\n",
      "        0.3059, 0.3059, 0.3059, 0.0471, 0.0000, 0.0000, 0.0000, 0.0000, 0.0000,\n",
      "        0.0000, 0.0000, 0.0000, 0.0000, 0.0000, 0.0000, 0.0000, 0.4588, 0.9843,\n",
      "        0.9843, 0.9843, 0.6510, 0.0667, 0.0000, 0.0000, 0.0000, 0.1255, 0.5333,\n",
      "        0.8471, 0.9843, 0.9843, 0.9843, 0.5569, 0.0000, 0.0000, 0.0000, 0.0000,\n",
      "        0.0000, 0.0000, 0.0000, 0.0000, 0.0000, 0.0000, 0.0000, 0.0000, 0.4588,\n",
      "        0.9843, 0.9843, 0.6863, 0.0863, 0.0000, 0.0000, 0.0000, 0.0000, 0.8196,\n",
      "        0.9843, 0.9843, 0.9843, 0.9843, 0.9843, 0.9647, 0.5255, 0.0000, 0.0000,\n",
      "        0.0000, 0.0000, 0.0000, 0.0000, 0.0000, 0.0000, 0.0000, 0.0000, 0.0000,\n",
      "        0.4627, 0.9922, 0.9529, 0.4706, 0.0000, 0.0000, 0.0000, 0.0000, 0.1804,\n",
      "        1.0000, 0.8824, 0.7608, 0.7608, 0.8510, 0.9922, 0.9922, 0.9922, 0.4549,\n",
      "        0.0000, 0.0000, 0.0000, 0.0000, 0.0000, 0.0000, 0.0000, 0.0000, 0.0000,\n",
      "        0.0000, 0.4588, 0.9843, 0.9020, 0.2824, 0.0000, 0.0000, 0.0000, 0.2510,\n",
      "        0.8627, 0.8824, 0.2824, 0.0000, 0.0000, 0.2078, 0.8078, 0.9843, 0.9843,\n",
      "        0.4510, 0.0000, 0.0000, 0.0000, 0.0000, 0.0000, 0.0000, 0.0000, 0.0000,\n",
      "        0.0000, 0.0000, 0.4588, 0.9843, 0.9843, 0.6000, 0.0000, 0.5843, 0.6863,\n",
      "        0.8471, 0.9843, 0.2314, 0.0000, 0.0000, 0.0000, 0.0000, 0.6078, 0.9843,\n",
      "        0.9843, 0.4510, 0.0000, 0.0000, 0.0000, 0.0000, 0.0000, 0.0000, 0.0000,\n",
      "        0.0000, 0.0000, 0.0000, 0.4588, 0.9843, 0.9843, 0.9569, 0.9137, 0.9725,\n",
      "        0.9843, 0.8980, 0.2431, 0.0000, 0.0000, 0.0000, 0.0000, 0.0000, 0.6078,\n",
      "        0.9843, 0.9843, 0.4510, 0.0000, 0.0000, 0.0000, 0.0000, 0.0000, 0.0000,\n",
      "        0.0000, 0.0000, 0.0000, 0.0000, 0.4588, 0.9843, 0.9843, 0.9843, 0.9843,\n",
      "        0.9843, 0.8627, 0.2784, 0.0000, 0.0000, 0.0000, 0.0000, 0.0000, 0.0000,\n",
      "        0.6078, 0.9843, 0.8627, 0.2784, 0.0000, 0.0000, 0.0000, 0.0000, 0.0000,\n",
      "        0.0000, 0.0000, 0.0000, 0.0000, 0.0000, 0.1765, 0.8000, 0.9843, 0.9843,\n",
      "        0.9843, 0.9843, 0.6784, 0.0000, 0.0000, 0.0000, 0.0000, 0.0000, 0.0000,\n",
      "        0.0000, 0.6078, 0.9843, 0.6784, 0.0000, 0.0000, 0.0000, 0.0000, 0.0000,\n",
      "        0.0000, 0.0000, 0.0000, 0.0000, 0.0000, 0.0000, 0.0000, 0.6314, 0.9765,\n",
      "        0.9843, 0.9843, 0.9843, 0.9373, 0.8392, 0.2510, 0.8431, 0.8392, 0.8392,\n",
      "        0.8392, 0.8392, 0.9294, 0.9765, 0.6235, 0.0000, 0.0000, 0.0000, 0.0000,\n",
      "        0.0000, 0.0000, 0.0000, 0.0000, 0.0000, 0.0000, 0.0000, 0.0000, 0.0000,\n",
      "        0.6784, 0.9843, 0.9843, 0.9843, 0.9843, 0.9843, 0.9843, 0.9922, 0.9843,\n",
      "        0.9843, 0.9843, 0.9843, 0.9843, 0.6706, 0.0000, 0.0000, 0.0000, 0.0000,\n",
      "        0.0000, 0.0000, 0.0000, 0.0000, 0.0000, 0.0000, 0.0000, 0.0000, 0.0000,\n",
      "        0.0000, 0.0706, 0.4510, 0.7804, 0.9843, 0.9843, 0.9843, 0.9843, 0.9922,\n",
      "        0.9843, 0.9843, 0.9843, 0.7765, 0.4510, 0.0667, 0.0000, 0.0000, 0.0000,\n",
      "        0.0000, 0.0000, 0.0000, 0.0000, 0.0000, 0.0000, 0.0000, 0.0000, 0.0000,\n",
      "        0.0000, 0.0000, 0.0000, 0.0000, 0.1412, 0.2235, 0.2235, 0.6353, 0.9843,\n",
      "        0.2235, 0.2235, 0.2235, 0.2235, 0.1373, 0.0000, 0.0000, 0.0000, 0.0000,\n",
      "        0.0000, 0.0000, 0.0000, 0.0000, 0.0000, 0.0000, 0.0000, 0.0000, 0.0000,\n",
      "        0.0000, 0.0000, 0.0000, 0.0000, 0.0000, 0.0000, 0.0000, 0.0000, 0.0000,\n",
      "        0.0000, 0.0000, 0.0000, 0.0000, 0.0000, 0.0000, 0.0000, 0.0000, 0.0000,\n",
      "        0.0000, 0.0000, 0.0000, 0.0000, 0.0000, 0.0000, 0.0000, 0.0000, 0.0000,\n",
      "        0.0000, 0.0000, 0.0000, 0.0000, 0.0000, 0.0000, 0.0000, 0.0000, 0.0000,\n",
      "        0.0000, 0.0000, 0.0000, 0.0000, 0.0000, 0.0000, 0.0000, 0.0000, 0.0000,\n",
      "        0.0000, 0.0000, 0.0000, 0.0000, 0.0000, 0.0000, 0.0000, 0.0000, 0.0000,\n",
      "        0.0000, 0.0000, 0.0000, 0.0000, 0.0000, 0.0000, 0.0000, 0.0000, 0.0000,\n",
      "        0.0000, 0.0000, 0.0000, 0.0000, 0.0000, 0.0000, 0.0000, 0.0000, 0.0000,\n",
      "        0.0000, 0.0000, 0.0000, 0.0000, 0.0000, 0.0000, 0.0000, 0.0000, 0.0000,\n",
      "        0.0000, 0.0000, 0.0000, 0.0000, 0.0000, 0.0000, 0.0000, 0.0000, 0.0000,\n",
      "        0.0000, 0.0000, 0.0000, 0.0000, 0.0000, 0.0000, 0.0000, 0.0000, 0.0000,\n",
      "        0.0000, 0.0000, 0.0000, 0.0000, 0.0000, 0.0000, 0.0000, 0.0000, 0.0000,\n",
      "        0.0000, 0.0000, 0.0000, 0.0000, 0.0000, 0.0000, 0.0000, 0.0000, 0.0000,\n",
      "        0.0000, 0.0000, 0.0000, 0.0000, 0.0000, 0.0000, 0.0000, 0.0000, 0.0000,\n",
      "        0.0000, 0.0000, 0.0000, 0.0000, 0.0000, 0.0000, 0.0000, 0.0000, 0.0000,\n",
      "        0.0000, 0.0000, 0.0000, 0.0000, 0.0000, 0.0000, 0.0000, 0.0000, 0.0000,\n",
      "        0.0000, 0.0000, 0.0000, 0.0000, 0.0000, 0.0000, 0.0000, 0.0000, 0.0000,\n",
      "        0.0000, 0.0000, 0.0000, 0.0000, 0.0000, 0.0000, 0.0000, 0.0000, 0.0000,\n",
      "        0.0000])\n",
      "Exemple of y value :  tensor(6)\n"
     ]
    }
   ],
   "source": [
    "for X, y in train_dataloader:\n",
    "    print(\"Shape of X [N, C, H, W]: \", X.shape)\n",
    "    print(\"Shape of y: \", y.shape, y.dtype)\n",
    "    \n",
    "    # We print some values to check the data    \n",
    "    print(\"Exemple of X value : \", X[0])\n",
    "    print(\"Exemple of y value : \", y[0])\n",
    "    \n",
    "    break"
   ]
  },
  {
   "cell_type": "markdown",
   "metadata": {},
   "source": [
    "## Automatic differentiation with Autograd\n",
    "\n",
    "- To calculate gradients and implement gradient descent, PyTorch has the `torch.autograd` automatic differentiation engine, which automatically calculates the gradient for any computational graph.\n",
    "- Consider the function : \n",
    "$$ (w,b) \\in \\mathbb{R}^5  \\times \\mathbb R \\mapsto   \\sum_{j=0}^4  j  \\cdot\\left(\\sin (w_j) +b \\right)^2 $$\n",
    "- Using autograd, we will calculate the gradient of this function at the point w=0, b = 1."
   ]
  },
  {
   "cell_type": "code",
   "execution_count": 5,
   "metadata": {},
   "outputs": [
    {
     "name": "stdout",
     "output_type": "stream",
     "text": [
      "Gradient par rapport à w :  tensor([0., 2., 4., 6., 8.])\n",
      "Gradient par rapport à b :  tensor(20.)\n"
     ]
    }
   ],
   "source": [
    "# Define the function\n",
    "def func(w, b):\n",
    "    result = 0.0\n",
    "    for j in range(5):\n",
    "        result += j * (torch.sin(w[j]) + b)**2\n",
    "    return result\n",
    "\n",
    "# Define the value of w and b for the function\n",
    "w = torch.zeros(5, requires_grad=True)\n",
    "b = torch.tensor(1.0, requires_grad=True)\n",
    "\n",
    "# Calculate the function output\n",
    "output = func(w, b)\n",
    "\n",
    "# Calculate the gradient\n",
    "gradient = grad(output, (w, b))\n",
    "\n",
    "# Print the gradient\n",
    "print(\"Gradient par rapport à w : \", gradient[0])\n",
    "print(\"Gradient par rapport à b : \", gradient[1])\n"
   ]
  },
  {
   "cell_type": "markdown",
   "metadata": {},
   "source": [
    "- We can easily verify these results by calculating\n",
    "- consider $f$ such that : $ f(w,b) = \\left(\\sin (w_j) +b \\right)^2 $\n",
    "$$\\frac{\\partial f}{\\partial w_j} = \\frac{\\partial}{\\partial w_j} \\left(\\sin (w_j) +b \\right)^2 $$\n",
    "$$ \\frac{\\partial f}{\\partial w_j} = 2 \\times \\frac{\\partial }{\\partial w_j} (\\sin (w_j) + b) \\times (\\sin(w_j) + b) $$\n",
    "$$ \\frac{\\partial f}{\\partial w_j} = 2 \\times \\cos (w_j) \\times (\\sin(w_j) + b) $$ \n",
    "with $ w_j = 0$ and $ b = 1$ we have:  \n",
    "$$ \\frac{\\partial f}{\\partial w_j} = 2 \\times \\cos (0) \\times (\\sin(0) + 1) = 2 \\times 1 \\times 1 = 2$$ \n",
    "\n",
    "then when we drift in relation to **b** : \n",
    "$$\\frac{\\partial f}{\\partial b} = \\frac{\\partial}{\\partial b} \\left(\\sin (w_j) +b \\right)^2 $$\n",
    "$$ \\frac{\\partial f}{\\partial b} = 2 \\times \\frac{\\partial }{\\partial b} (\\sin (w_j) + b) \\times (\\sin(w_j) + b) $$\n",
    "$$ \\frac{\\partial f}{\\partial b} = 2 \\times \\ 1 \\times (\\sin(w_j) + b) $$ \n",
    "with $ w_j = 0$ and $ b = 1$ we have:  \n",
    "$$ \\frac{\\partial f}{\\partial b} = 2 \\times \\ 1 \\times (\\sin(0) + 1) = 2 \\times 1 \\times 1 = 2$$ \n",
    "\n",
    "\n",
    "- Knowing that b is a one-dimensional tensor, all we have to do is multiply the result of the gradient with respect to b by this sum: $$ S = \\sum_{j=0}^4  j = (n+1) \\times \\frac{u_o + u_n}{2} = (4+1) \\times \\frac{0+4}{2} = \\frac{20}{2} = 10 $$\n",
    "so we have the same result as with code $ b = S \\times \\frac{\\partial f}{\\partial b} = 10 \\times 2 = 20 $\n",
    "\n",
    "\n",
    "- For the gradient with respect to w, this is a 5-dimensional array, so each element is multiplied by the gradient, so for the first element we have $0 \\times 2 = 0$, the 2nd element $1 \\times 2 = 2$ etc ... "
   ]
  },
  {
   "cell_type": "markdown",
   "metadata": {},
   "source": [
    "## Network construction using the Sequential function"
   ]
  },
  {
   "cell_type": "markdown",
   "metadata": {},
   "source": [
    "- **We want the network to read an image of 28 × 28 pixels** with intensities between 0 and 255, in the form of a vector of values between 0 and 1.\n",
    "- We therefore create an input layer with 28 x 28 = 784 neurons. \n",
    "- We will also create two hidden layers containing 30 and 20 neurons respectively, and an output layer of 10 neurons representing the digits from 0 to 9. \n",
    "- The response of the network will be given by the number of the output neuron with the highest activation. In the three layers that are not the input, we use the logistic function (sigmoid): $L(x)=\\frac{1}{1+e^{-x}}$."
   ]
  },
  {
   "cell_type": "code",
   "execution_count": 6,
   "metadata": {},
   "outputs": [
    {
     "name": "stdout",
     "output_type": "stream",
     "text": [
      "1.weight torch.Size([30, 784])\n",
      "1.bias torch.Size([30])\n",
      "3.weight torch.Size([20, 30])\n",
      "3.bias torch.Size([20])\n",
      "5.weight torch.Size([10, 20])\n",
      "5.bias torch.Size([10])\n"
     ]
    }
   ],
   "source": [
    "# The logistic function\n",
    "def logistic(x):\n",
    "    return 1 / (1 + torch.exp(-x))\n",
    "\n",
    "# Definition of the neural network with the sequential module\n",
    "net1 = nn.Sequential(\n",
    "    nn.Flatten(),                           # Input layer: Flatten the 28x28 image into a 784-value vector\n",
    "    nn.Linear(784, 30),                     # First hidden layer with 30 neurons\n",
    "    nn.Sigmoid(),                           # Activation function: Logistics function\n",
    "    nn.Linear(30, 20),                      # Second hidden layer with 20 neurons\n",
    "    nn.Sigmoid(),                           # Activation function: Logistics function\n",
    "    nn.Linear(20, 10),                      # Output layer with 10 neurons for digits 0 to 9\n",
    "    nn.Sigmoid()                            # Activation function: Logistics function\n",
    ")\n",
    "\n",
    "# Displaying network parameters\n",
    "for name, param in net1.named_parameters():\n",
    "    print(name, param.shape)"
   ]
  },
  {
   "cell_type": "code",
   "execution_count": 7,
   "metadata": {},
   "outputs": [],
   "source": [
    "# Number of classes for the classification\n",
    "num_classes = 10  # For MINST dataset (digits 0 to 9)\n",
    "\n",
    "# Function to compute the accuracy\n",
    "def compute_accuracy(predictions, targets):\n",
    "    # Use argmax to get the predicted labels\n",
    "    predicted_labels = torch.argmax(predictions, dim=1)\n",
    "    # Calculate the accuracy\n",
    "    acc = torchmetrics.functional.accuracy(predicted_labels, targets, task='MULTICLASS', num_classes=num_classes)\n",
    "    return acc"
   ]
  },
  {
   "cell_type": "code",
   "execution_count": 9,
   "metadata": {},
   "outputs": [
    {
     "name": "stdout",
     "output_type": "stream",
     "text": [
      "Accuracy on one batch of the training sample : 0.171875\n"
     ]
    }
   ],
   "source": [
    "# Batch from the training sample\n",
    "for images, labels in train_dataloader:\n",
    "    predictions = net1(images)\n",
    "    accuracy_batch = compute_accuracy(predictions, labels)\n",
    "    print(\"Accuracy on one batch of the training sample :\", accuracy_batch.item())\n",
    "    break"
   ]
  },
  {
   "cell_type": "code",
   "execution_count": 11,
   "metadata": {},
   "outputs": [
    {
     "name": "stdout",
     "output_type": "stream",
     "text": [
      "Accuracy of the full learning sample : 0.09863333404064178\n"
     ]
    }
   ],
   "source": [
    "# Full learning sample\n",
    "all_predictions_train = torch.cat([net1(images) for images, labels in train_dataloader])\n",
    "all_labels_train = torch.cat([labels for images, labels in train_dataloader])\n",
    "accuracy_train = compute_accuracy(all_predictions_train, all_labels_train)\n",
    "print(\"Accuracy of the full learning sample :\", accuracy_train.item())"
   ]
  },
  {
   "cell_type": "code",
   "execution_count": 12,
   "metadata": {},
   "outputs": [
    {
     "name": "stdout",
     "output_type": "stream",
     "text": [
      "Accuracy of the full test sample : 0.0957999974489212\n"
     ]
    }
   ],
   "source": [
    "# Full test sample\n",
    "all_predictions_test = torch.cat([net1(images) for images, labels in test_dataloader])\n",
    "all_labels_test = torch.cat([labels for images, labels in test_dataloader])\n",
    "accuracy_test = compute_accuracy(all_predictions_test, all_labels_test)\n",
    "print(\"Accuracy of the full test sample :\", accuracy_test.item())"
   ]
  },
  {
   "cell_type": "markdown",
   "metadata": {},
   "source": [
    "Given that the network is not yet trained. We therefore have very poor accuracy \n",
    "> - on a batch of the training sample,\n",
    "> - on the complete training sample,\n",
    "> - on the complete test sample."
   ]
  },
  {
   "cell_type": "markdown",
   "metadata": {},
   "source": [
    "## Training"
   ]
  },
  {
   "cell_type": "code",
   "execution_count": 13,
   "metadata": {},
   "outputs": [
    {
     "name": "stdout",
     "output_type": "stream",
     "text": [
      "Loss of cross-entropy for one batch of the training sample : 2.310173749923706\n"
     ]
    }
   ],
   "source": [
    "# Function to calculate the cross-entropy loss\n",
    "def compute_cross_entropy(predictions, targets):\n",
    "    # Compute the cross-entropy loss\n",
    "    criterion = nn.CrossEntropyLoss()\n",
    "    loss = criterion(predictions, targets)\n",
    "    return loss\n",
    "\n",
    "# Batch from the training sample\n",
    "for images, labels in train_dataloader:\n",
    "    predictions = net1(images)\n",
    "    # Calculate the cross-entropy loss\n",
    "    loss_batch = compute_cross_entropy(predictions, labels)\n",
    "    print(\"Loss of cross-entropy for one batch of the training sample :\", loss_batch.item())\n",
    "    break"
   ]
  },
  {
   "cell_type": "markdown",
   "metadata": {},
   "source": [
    "To train the model, i.e. adjust the weights and biases, we will implement a stochastic gradient descent with the objective function being the loss of cross entropy (applied at the output of the network).\n",
    "\n",
    "Here we choose to use the standard gradient descent optimizer, available in Pytorch via the function [SGD](https://pytorch.org/docs/stable/generated/torch.optim.SGD.html#torch.optim.SGD).\n",
    "\n",
    "Then we build a batch with the dataloader taking $m = 256$.   "
   ]
  },
  {
   "cell_type": "code",
   "execution_count": 14,
   "metadata": {},
   "outputs": [
    {
     "name": "stdout",
     "output_type": "stream",
     "text": [
      "Loss after one iteration : 2.3062686920166016\n"
     ]
    }
   ],
   "source": [
    "# Initilization of the model\n",
    "model = net1\n",
    "\n",
    "# Define the optimizer hyperparameters\n",
    "learning_rate = 0.01\n",
    "momentum = 0.9\n",
    "\n",
    "# Create the SGD optimizer\n",
    "optimizer = optim.SGD(model.parameters(), lr=learning_rate, momentum=momentum)\n",
    "\n",
    "# Definition of the loss function\n",
    "criterion = nn.CrossEntropyLoss()\n",
    "\n",
    "# 256 images per batch\n",
    "m = 256\n",
    "\n",
    "# Initilisation of a list to store the data and labels of the batch\n",
    "batch_images = []\n",
    "batch_labels = []\n",
    "\n",
    "# Build the batch by iterating over the DataLoader\n",
    "for images, labels in train_dataloader:\n",
    "    batch_images.append(images)\n",
    "    batch_labels.append(labels)\n",
    "    \n",
    "    # Check if we have reached the desired batch size\n",
    "    if len(batch_images) * images.shape[0] >= m:\n",
    "        break\n",
    "\n",
    "# Concatenate data and labels to form the batch\n",
    "batch_images = torch.cat(batch_images, dim=0)[:m]\n",
    "batch_labels = torch.cat(batch_labels, dim=0)[:m]\n",
    "\n",
    "# Zero the gradients\n",
    "optimizer.zero_grad()\n",
    "\n",
    "# Forward propagation: calculate predictions\n",
    "predictions = model(batch_images)\n",
    "\n",
    "# Compute the cross-entropy loss\n",
    "loss = criterion(predictions, batch_labels)\n",
    "\n",
    "# Backpropagation: calculating gradients\n",
    "loss.backward()\n",
    "\n",
    "# Update weights and biases\n",
    "optimizer.step()\n",
    "\n",
    "# Print the loss after one iteration\n",
    "print(\"Loss after one iteration :\", loss.item())"
   ]
  },
  {
   "cell_type": "code",
   "execution_count": 15,
   "metadata": {},
   "outputs": [],
   "source": [
    "for input, target in train_dataloader: \n",
    "    optimizer.zero_grad()\n",
    "    output = model(input)\n",
    "    loss = criterion(output, target)\n",
    "    loss.backward()\n",
    "    optimizer.step()\n",
    "\n",
    "# Now, let's explain the meaning of each command in this loop:\n",
    "# optimizer.zero_grad(): This instruction is used to reset the gradients calculated during the previous backward pass. Gradients need to be cleared before calculating gradients for the new batch, otherwise the gradients will accumulate.\n",
    "# output = model(input): This performs a forward pass through the model with the input data and gets the model's predictions.\n",
    "# loss = criterion(output, target): This calculates the loss between the model's predictions (output) and the true labels (target) using the defined loss function, in this case, the cross-entropy loss function.\n",
    "# loss.backward(): This instruction computes the gradients of the loss with respect to the model's parameters using automatic differentiation.\n",
    "# optimizer.step(): This instruction updates the model's weights and biases by taking a step in the opposite direction of the gradients, according to the chosen optimizer.\n"
   ]
  },
  {
   "cell_type": "code",
   "execution_count": 16,
   "metadata": {},
   "outputs": [],
   "source": [
    "# Redefine the DataLoader with a new batch size\n",
    "batch_size = 10\n",
    "train_dataloader = DataLoader(training_data, batch_size=batch_size, shuffle=True)"
   ]
  },
  {
   "cell_type": "code",
   "execution_count": 17,
   "metadata": {},
   "outputs": [
    {
     "name": "stdout",
     "output_type": "stream",
     "text": [
      "Epoch 1\n",
      "-------------------------------\n",
      "loss: 2.287270  [   10/60000]\n",
      "loss: 2.330104  [ 1010/60000]\n",
      "loss: 2.302551  [ 2010/60000]\n",
      "loss: 2.100961  [ 3010/60000]\n",
      "loss: 1.902298  [ 4010/60000]\n",
      "loss: 1.944453  [ 5010/60000]\n",
      "loss: 1.783159  [ 6010/60000]\n",
      "loss: 1.804507  [ 7010/60000]\n",
      "loss: 1.732282  [ 8010/60000]\n",
      "loss: 1.750697  [ 9010/60000]\n",
      "loss: 1.825851  [10010/60000]\n",
      "loss: 1.742792  [11010/60000]\n",
      "loss: 1.659687  [12010/60000]\n",
      "loss: 1.639429  [13010/60000]\n",
      "loss: 1.660804  [14010/60000]\n",
      "loss: 1.843539  [15010/60000]\n",
      "loss: 1.706730  [16010/60000]\n",
      "loss: 1.654618  [17010/60000]\n",
      "loss: 1.587069  [18010/60000]\n",
      "loss: 1.611391  [19010/60000]\n",
      "loss: 1.631912  [20010/60000]\n",
      "loss: 1.692217  [21010/60000]\n",
      "loss: 1.588870  [22010/60000]\n",
      "loss: 1.669034  [23010/60000]\n",
      "loss: 1.533099  [24010/60000]\n",
      "loss: 1.782976  [25010/60000]\n",
      "loss: 1.559480  [26010/60000]\n",
      "loss: 1.806301  [27010/60000]\n",
      "loss: 1.579204  [28010/60000]\n",
      "loss: 1.549476  [29010/60000]\n",
      "loss: 1.549604  [30010/60000]\n",
      "loss: 1.592288  [31010/60000]\n",
      "loss: 1.584944  [32010/60000]\n",
      "loss: 1.698545  [33010/60000]\n",
      "loss: 1.517073  [34010/60000]\n",
      "loss: 1.578631  [35010/60000]\n",
      "loss: 1.541524  [36010/60000]\n",
      "loss: 1.648657  [37010/60000]\n",
      "loss: 1.540869  [38010/60000]\n",
      "loss: 1.655575  [39010/60000]\n",
      "loss: 1.558294  [40010/60000]\n",
      "loss: 1.613922  [41010/60000]\n",
      "loss: 1.517972  [42010/60000]\n",
      "loss: 1.547208  [43010/60000]\n",
      "loss: 1.651277  [44010/60000]\n",
      "loss: 1.558715  [45010/60000]\n",
      "loss: 1.510483  [46010/60000]\n",
      "loss: 1.628935  [47010/60000]\n",
      "loss: 1.529067  [48010/60000]\n",
      "loss: 1.651904  [49010/60000]\n",
      "loss: 1.598134  [50010/60000]\n",
      "loss: 1.540309  [51010/60000]\n",
      "loss: 1.555999  [52010/60000]\n",
      "loss: 1.529453  [53010/60000]\n",
      "loss: 1.612121  [54010/60000]\n",
      "loss: 1.520160  [55010/60000]\n",
      "loss: 1.634764  [56010/60000]\n",
      "loss: 1.635049  [57010/60000]\n",
      "loss: 1.577141  [58010/60000]\n",
      "loss: 1.808400  [59010/60000]\n",
      "Test Error: \n",
      " Accuracy: 87.6%, Avg loss: 1.566547 \n",
      "\n",
      "Epoch 2\n",
      "-------------------------------\n",
      "loss: 1.597323  [   10/60000]\n",
      "loss: 1.489183  [ 1010/60000]\n",
      "loss: 1.565221  [ 2010/60000]\n",
      "loss: 1.552490  [ 3010/60000]\n",
      "loss: 1.596198  [ 4010/60000]\n",
      "loss: 1.676812  [ 5010/60000]\n",
      "loss: 1.496254  [ 6010/60000]\n",
      "loss: 1.517866  [ 7010/60000]\n",
      "loss: 1.535160  [ 8010/60000]\n",
      "loss: 1.511683  [ 9010/60000]\n",
      "loss: 1.714376  [10010/60000]\n",
      "loss: 1.538449  [11010/60000]\n",
      "loss: 1.626930  [12010/60000]\n",
      "loss: 1.575800  [13010/60000]\n",
      "loss: 1.505771  [14010/60000]\n",
      "loss: 1.488271  [15010/60000]\n",
      "loss: 1.611362  [16010/60000]\n",
      "loss: 1.586994  [17010/60000]\n",
      "loss: 1.507539  [18010/60000]\n",
      "loss: 1.519174  [19010/60000]\n",
      "loss: 1.474265  [20010/60000]\n",
      "loss: 1.539136  [21010/60000]\n",
      "loss: 1.586514  [22010/60000]\n",
      "loss: 1.579875  [23010/60000]\n",
      "loss: 1.482364  [24010/60000]\n",
      "loss: 1.496587  [25010/60000]\n",
      "loss: 1.472876  [26010/60000]\n",
      "loss: 1.508381  [27010/60000]\n",
      "loss: 1.734613  [28010/60000]\n",
      "loss: 1.621277  [29010/60000]\n",
      "loss: 1.501450  [30010/60000]\n",
      "loss: 1.606418  [31010/60000]\n",
      "loss: 1.466423  [32010/60000]\n",
      "loss: 1.479751  [33010/60000]\n",
      "loss: 1.470490  [34010/60000]\n",
      "loss: 1.530617  [35010/60000]\n",
      "loss: 1.485146  [36010/60000]\n",
      "loss: 1.724119  [37010/60000]\n",
      "loss: 1.519221  [38010/60000]\n",
      "loss: 1.600556  [39010/60000]\n",
      "loss: 1.469637  [40010/60000]\n",
      "loss: 1.496963  [41010/60000]\n",
      "loss: 1.494167  [42010/60000]\n",
      "loss: 1.580113  [43010/60000]\n",
      "loss: 1.465140  [44010/60000]\n",
      "loss: 1.475883  [45010/60000]\n",
      "loss: 1.489180  [46010/60000]\n",
      "loss: 1.512745  [47010/60000]\n",
      "loss: 1.477331  [48010/60000]\n",
      "loss: 1.511226  [49010/60000]\n",
      "loss: 1.500846  [50010/60000]\n",
      "loss: 1.481650  [51010/60000]\n",
      "loss: 1.489949  [52010/60000]\n",
      "loss: 1.581986  [53010/60000]\n",
      "loss: 1.577175  [54010/60000]\n",
      "loss: 1.489044  [55010/60000]\n",
      "loss: 1.483133  [56010/60000]\n",
      "loss: 1.475931  [57010/60000]\n",
      "loss: 1.563628  [58010/60000]\n",
      "loss: 1.473570  [59010/60000]\n",
      "Test Error: \n",
      " Accuracy: 93.3%, Avg loss: 1.523735 \n",
      "\n",
      "Epoch 3\n",
      "-------------------------------\n",
      "loss: 1.612481  [   10/60000]\n",
      "loss: 1.497125  [ 1010/60000]\n",
      "loss: 1.571432  [ 2010/60000]\n",
      "loss: 1.527629  [ 3010/60000]\n",
      "loss: 1.548134  [ 4010/60000]\n",
      "loss: 1.661423  [ 5010/60000]\n",
      "loss: 1.562346  [ 6010/60000]\n",
      "loss: 1.583035  [ 7010/60000]\n",
      "loss: 1.579915  [ 8010/60000]\n",
      "loss: 1.464786  [ 9010/60000]\n",
      "loss: 1.465865  [10010/60000]\n",
      "loss: 1.477047  [11010/60000]\n",
      "loss: 1.569132  [12010/60000]\n",
      "loss: 1.524298  [13010/60000]\n",
      "loss: 1.564242  [14010/60000]\n",
      "loss: 1.571044  [15010/60000]\n",
      "loss: 1.553920  [16010/60000]\n",
      "loss: 1.469192  [17010/60000]\n",
      "loss: 1.560068  [18010/60000]\n",
      "loss: 1.489170  [19010/60000]\n",
      "loss: 1.486546  [20010/60000]\n",
      "loss: 1.509058  [21010/60000]\n",
      "loss: 1.479212  [22010/60000]\n",
      "loss: 1.463567  [23010/60000]\n",
      "loss: 1.462714  [24010/60000]\n",
      "loss: 1.526339  [25010/60000]\n",
      "loss: 1.491277  [26010/60000]\n",
      "loss: 1.512292  [27010/60000]\n",
      "loss: 1.565976  [28010/60000]\n",
      "loss: 1.498239  [29010/60000]\n",
      "loss: 1.506754  [30010/60000]\n",
      "loss: 1.462197  [31010/60000]\n",
      "loss: 1.485117  [32010/60000]\n",
      "loss: 1.555768  [33010/60000]\n",
      "loss: 1.462594  [34010/60000]\n",
      "loss: 1.564027  [35010/60000]\n",
      "loss: 1.475712  [36010/60000]\n",
      "loss: 1.478390  [37010/60000]\n",
      "loss: 1.591023  [38010/60000]\n",
      "loss: 1.543781  [39010/60000]\n",
      "loss: 1.477806  [40010/60000]\n",
      "loss: 1.523102  [41010/60000]\n",
      "loss: 1.466809  [42010/60000]\n",
      "loss: 1.478978  [43010/60000]\n",
      "loss: 1.463516  [44010/60000]\n",
      "loss: 1.583426  [45010/60000]\n",
      "loss: 1.518396  [46010/60000]\n",
      "loss: 1.597983  [47010/60000]\n",
      "loss: 1.463862  [48010/60000]\n",
      "loss: 1.513411  [49010/60000]\n",
      "loss: 1.473956  [50010/60000]\n",
      "loss: 1.466108  [51010/60000]\n",
      "loss: 1.488784  [52010/60000]\n",
      "loss: 1.482155  [53010/60000]\n",
      "loss: 1.592146  [54010/60000]\n",
      "loss: 1.563281  [55010/60000]\n",
      "loss: 1.504355  [56010/60000]\n",
      "loss: 1.472076  [57010/60000]\n",
      "loss: 1.512076  [58010/60000]\n",
      "loss: 1.526320  [59010/60000]\n",
      "Test Error: \n",
      " Accuracy: 93.9%, Avg loss: 1.516114 \n",
      "\n",
      "Epoch 4\n",
      "-------------------------------\n",
      "loss: 1.464453  [   10/60000]\n",
      "loss: 1.462784  [ 1010/60000]\n",
      "loss: 1.557391  [ 2010/60000]\n",
      "loss: 1.607031  [ 3010/60000]\n",
      "loss: 1.479672  [ 4010/60000]\n",
      "loss: 1.591150  [ 5010/60000]\n",
      "loss: 1.495178  [ 6010/60000]\n",
      "loss: 1.463199  [ 7010/60000]\n",
      "loss: 1.464412  [ 8010/60000]\n",
      "loss: 1.471577  [ 9010/60000]\n",
      "loss: 1.588840  [10010/60000]\n",
      "loss: 1.494011  [11010/60000]\n",
      "loss: 1.484718  [12010/60000]\n",
      "loss: 1.493118  [13010/60000]\n",
      "loss: 1.491305  [14010/60000]\n",
      "loss: 1.474382  [15010/60000]\n",
      "loss: 1.600977  [16010/60000]\n",
      "loss: 1.487895  [17010/60000]\n",
      "loss: 1.479282  [18010/60000]\n",
      "loss: 1.465276  [19010/60000]\n",
      "loss: 1.473674  [20010/60000]\n",
      "loss: 1.463036  [21010/60000]\n",
      "loss: 1.504034  [22010/60000]\n",
      "loss: 1.566652  [23010/60000]\n",
      "loss: 1.571812  [24010/60000]\n",
      "loss: 1.494438  [25010/60000]\n",
      "loss: 1.490625  [26010/60000]\n",
      "loss: 1.498644  [27010/60000]\n",
      "loss: 1.554676  [28010/60000]\n",
      "loss: 1.535350  [29010/60000]\n",
      "loss: 1.553502  [30010/60000]\n",
      "loss: 1.611175  [31010/60000]\n",
      "loss: 1.472870  [32010/60000]\n",
      "loss: 1.482230  [33010/60000]\n",
      "loss: 1.541478  [34010/60000]\n",
      "loss: 1.465851  [35010/60000]\n",
      "loss: 1.464734  [36010/60000]\n",
      "loss: 1.491191  [37010/60000]\n",
      "loss: 1.503485  [38010/60000]\n",
      "loss: 1.462191  [39010/60000]\n",
      "loss: 1.507618  [40010/60000]\n",
      "loss: 1.464976  [41010/60000]\n",
      "loss: 1.565977  [42010/60000]\n",
      "loss: 1.463438  [43010/60000]\n",
      "loss: 1.563838  [44010/60000]\n",
      "loss: 1.646173  [45010/60000]\n",
      "loss: 1.517176  [46010/60000]\n",
      "loss: 1.468205  [47010/60000]\n",
      "loss: 1.504687  [48010/60000]\n",
      "loss: 1.561756  [49010/60000]\n",
      "loss: 1.483971  [50010/60000]\n",
      "loss: 1.478294  [51010/60000]\n",
      "loss: 1.480430  [52010/60000]\n",
      "loss: 1.583114  [53010/60000]\n",
      "loss: 1.517137  [54010/60000]\n",
      "loss: 1.472504  [55010/60000]\n",
      "loss: 1.566019  [56010/60000]\n",
      "loss: 1.489533  [57010/60000]\n",
      "loss: 1.483574  [58010/60000]\n",
      "loss: 1.584276  [59010/60000]\n",
      "Test Error: \n",
      " Accuracy: 94.0%, Avg loss: 1.512974 \n",
      "\n",
      "Epoch 5\n",
      "-------------------------------\n",
      "loss: 1.468934  [   10/60000]\n",
      "loss: 1.469113  [ 1010/60000]\n",
      "loss: 1.488661  [ 2010/60000]\n",
      "loss: 1.520990  [ 3010/60000]\n",
      "loss: 1.485739  [ 4010/60000]\n",
      "loss: 1.478845  [ 5010/60000]\n",
      "loss: 1.484771  [ 6010/60000]\n",
      "loss: 1.473282  [ 7010/60000]\n",
      "loss: 1.475633  [ 8010/60000]\n",
      "loss: 1.485858  [ 9010/60000]\n",
      "loss: 1.473011  [10010/60000]\n",
      "loss: 1.465755  [11010/60000]\n",
      "loss: 1.570018  [12010/60000]\n",
      "loss: 1.467035  [13010/60000]\n",
      "loss: 1.473069  [14010/60000]\n",
      "loss: 1.477338  [15010/60000]\n",
      "loss: 1.483561  [16010/60000]\n",
      "loss: 1.630191  [17010/60000]\n",
      "loss: 1.572826  [18010/60000]\n",
      "loss: 1.562646  [19010/60000]\n",
      "loss: 1.560058  [20010/60000]\n",
      "loss: 1.463541  [21010/60000]\n",
      "loss: 1.604881  [22010/60000]\n",
      "loss: 1.543197  [23010/60000]\n",
      "loss: 1.468098  [24010/60000]\n",
      "loss: 1.506380  [25010/60000]\n",
      "loss: 1.484417  [26010/60000]\n",
      "loss: 1.567430  [27010/60000]\n",
      "loss: 1.520013  [28010/60000]\n",
      "loss: 1.505347  [29010/60000]\n",
      "loss: 1.465785  [30010/60000]\n",
      "loss: 1.464025  [31010/60000]\n",
      "loss: 1.578234  [32010/60000]\n",
      "loss: 1.472941  [33010/60000]\n",
      "loss: 1.461821  [34010/60000]\n",
      "loss: 1.608080  [35010/60000]\n",
      "loss: 1.669722  [36010/60000]\n",
      "loss: 1.465922  [37010/60000]\n",
      "loss: 1.461987  [38010/60000]\n",
      "loss: 1.463091  [39010/60000]\n",
      "loss: 1.530894  [40010/60000]\n",
      "loss: 1.627235  [41010/60000]\n",
      "loss: 1.480244  [42010/60000]\n",
      "loss: 1.480394  [43010/60000]\n",
      "loss: 1.465499  [44010/60000]\n",
      "loss: 1.518540  [45010/60000]\n",
      "loss: 1.468857  [46010/60000]\n",
      "loss: 1.497526  [47010/60000]\n",
      "loss: 1.476907  [48010/60000]\n",
      "loss: 1.481581  [49010/60000]\n",
      "loss: 1.477345  [50010/60000]\n",
      "loss: 1.565170  [51010/60000]\n",
      "loss: 1.463101  [52010/60000]\n",
      "loss: 1.564603  [53010/60000]\n",
      "loss: 1.627913  [54010/60000]\n",
      "loss: 1.481335  [55010/60000]\n",
      "loss: 1.510410  [56010/60000]\n",
      "loss: 1.468341  [57010/60000]\n",
      "loss: 1.535118  [58010/60000]\n",
      "loss: 1.481687  [59010/60000]\n",
      "Test Error: \n",
      " Accuracy: 95.2%, Avg loss: 1.504966 \n",
      "\n",
      "Epoch 6\n",
      "-------------------------------\n",
      "loss: 1.465273  [   10/60000]\n",
      "loss: 1.461862  [ 1010/60000]\n",
      "loss: 1.465652  [ 2010/60000]\n",
      "loss: 1.473445  [ 3010/60000]\n",
      "loss: 1.464055  [ 4010/60000]\n",
      "loss: 1.462434  [ 5010/60000]\n",
      "loss: 1.461961  [ 6010/60000]\n",
      "loss: 1.462026  [ 7010/60000]\n",
      "loss: 1.463866  [ 8010/60000]\n",
      "loss: 1.477325  [ 9010/60000]\n",
      "loss: 1.488702  [10010/60000]\n",
      "loss: 1.569740  [11010/60000]\n",
      "loss: 1.475882  [12010/60000]\n",
      "loss: 1.560484  [13010/60000]\n",
      "loss: 1.479282  [14010/60000]\n",
      "loss: 1.472533  [15010/60000]\n",
      "loss: 1.461811  [16010/60000]\n",
      "loss: 1.562320  [17010/60000]\n",
      "loss: 1.464073  [18010/60000]\n",
      "loss: 1.461645  [19010/60000]\n",
      "loss: 1.477811  [20010/60000]\n",
      "loss: 1.464601  [21010/60000]\n",
      "loss: 1.541066  [22010/60000]\n",
      "loss: 1.584520  [23010/60000]\n",
      "loss: 1.528645  [24010/60000]\n",
      "loss: 1.467637  [25010/60000]\n",
      "loss: 1.475572  [26010/60000]\n",
      "loss: 1.467533  [27010/60000]\n",
      "loss: 1.464829  [28010/60000]\n",
      "loss: 1.470966  [29010/60000]\n",
      "loss: 1.493238  [30010/60000]\n",
      "loss: 1.572981  [31010/60000]\n",
      "loss: 1.497936  [32010/60000]\n",
      "loss: 1.468511  [33010/60000]\n",
      "loss: 1.571776  [34010/60000]\n",
      "loss: 1.471802  [35010/60000]\n",
      "loss: 1.501833  [36010/60000]\n",
      "loss: 1.520295  [37010/60000]\n",
      "loss: 1.502463  [38010/60000]\n",
      "loss: 1.464751  [39010/60000]\n",
      "loss: 1.474465  [40010/60000]\n",
      "loss: 1.463066  [41010/60000]\n",
      "loss: 1.555752  [42010/60000]\n",
      "loss: 1.470127  [43010/60000]\n",
      "loss: 1.464448  [44010/60000]\n",
      "loss: 1.461866  [45010/60000]\n",
      "loss: 1.495242  [46010/60000]\n",
      "loss: 1.481781  [47010/60000]\n",
      "loss: 1.463266  [48010/60000]\n",
      "loss: 1.463902  [49010/60000]\n",
      "loss: 1.470927  [50010/60000]\n",
      "loss: 1.462947  [51010/60000]\n",
      "loss: 1.491758  [52010/60000]\n",
      "loss: 1.462556  [53010/60000]\n",
      "loss: 1.464624  [54010/60000]\n",
      "loss: 1.462219  [55010/60000]\n",
      "loss: 1.476830  [56010/60000]\n",
      "loss: 1.464816  [57010/60000]\n",
      "loss: 1.461604  [58010/60000]\n",
      "loss: 1.464355  [59010/60000]\n",
      "Test Error: \n",
      " Accuracy: 95.4%, Avg loss: 1.504015 \n",
      "\n",
      "Epoch 7\n",
      "-------------------------------\n",
      "loss: 1.472552  [   10/60000]\n",
      "loss: 1.498040  [ 1010/60000]\n",
      "loss: 1.557588  [ 2010/60000]\n",
      "loss: 1.690483  [ 3010/60000]\n",
      "loss: 1.467748  [ 4010/60000]\n",
      "loss: 1.468358  [ 5010/60000]\n",
      "loss: 1.465503  [ 6010/60000]\n",
      "loss: 1.477054  [ 7010/60000]\n",
      "loss: 1.464938  [ 8010/60000]\n",
      "loss: 1.461864  [ 9010/60000]\n",
      "loss: 1.561630  [10010/60000]\n",
      "loss: 1.474834  [11010/60000]\n",
      "loss: 1.468384  [12010/60000]\n",
      "loss: 1.548521  [13010/60000]\n",
      "loss: 1.468739  [14010/60000]\n",
      "loss: 1.578790  [15010/60000]\n",
      "loss: 1.464166  [16010/60000]\n",
      "loss: 1.477946  [17010/60000]\n",
      "loss: 1.512112  [18010/60000]\n",
      "loss: 1.463485  [19010/60000]\n",
      "loss: 1.561558  [20010/60000]\n",
      "loss: 1.562217  [21010/60000]\n",
      "loss: 1.473205  [22010/60000]\n",
      "loss: 1.598575  [23010/60000]\n",
      "loss: 1.472755  [24010/60000]\n",
      "loss: 1.554279  [25010/60000]\n",
      "loss: 1.489083  [26010/60000]\n",
      "loss: 1.524343  [27010/60000]\n",
      "loss: 1.472467  [28010/60000]\n",
      "loss: 1.471191  [29010/60000]\n",
      "loss: 1.518562  [30010/60000]\n",
      "loss: 1.463709  [31010/60000]\n",
      "loss: 1.509657  [32010/60000]\n",
      "loss: 1.564333  [33010/60000]\n",
      "loss: 1.548029  [34010/60000]\n",
      "loss: 1.480435  [35010/60000]\n",
      "loss: 1.552842  [36010/60000]\n",
      "loss: 1.462156  [37010/60000]\n",
      "loss: 1.464209  [38010/60000]\n",
      "loss: 1.494672  [39010/60000]\n",
      "loss: 1.487618  [40010/60000]\n",
      "loss: 1.465412  [41010/60000]\n",
      "loss: 1.465182  [42010/60000]\n",
      "loss: 1.476630  [43010/60000]\n",
      "loss: 1.462691  [44010/60000]\n",
      "loss: 1.464743  [45010/60000]\n",
      "loss: 1.477962  [46010/60000]\n",
      "loss: 1.509812  [47010/60000]\n",
      "loss: 1.559795  [48010/60000]\n",
      "loss: 1.636133  [49010/60000]\n",
      "loss: 1.476278  [50010/60000]\n",
      "loss: 1.562828  [51010/60000]\n",
      "loss: 1.465829  [52010/60000]\n",
      "loss: 1.465665  [53010/60000]\n",
      "loss: 1.461499  [54010/60000]\n",
      "loss: 1.527455  [55010/60000]\n",
      "loss: 1.471230  [56010/60000]\n",
      "loss: 1.463187  [57010/60000]\n",
      "loss: 1.467456  [58010/60000]\n",
      "loss: 1.538751  [59010/60000]\n",
      "Test Error: \n",
      " Accuracy: 95.5%, Avg loss: 1.499764 \n",
      "\n",
      "Epoch 8\n",
      "-------------------------------\n",
      "loss: 1.461752  [   10/60000]\n",
      "loss: 1.470361  [ 1010/60000]\n",
      "loss: 1.592279  [ 2010/60000]\n",
      "loss: 1.485486  [ 3010/60000]\n",
      "loss: 1.462183  [ 4010/60000]\n",
      "loss: 1.461724  [ 5010/60000]\n",
      "loss: 1.481628  [ 6010/60000]\n",
      "loss: 1.461854  [ 7010/60000]\n",
      "loss: 1.546880  [ 8010/60000]\n",
      "loss: 1.467760  [ 9010/60000]\n",
      "loss: 1.531923  [10010/60000]\n",
      "loss: 1.462204  [11010/60000]\n",
      "loss: 1.474179  [12010/60000]\n",
      "loss: 1.484251  [13010/60000]\n",
      "loss: 1.496942  [14010/60000]\n",
      "loss: 1.479995  [15010/60000]\n",
      "loss: 1.481150  [16010/60000]\n",
      "loss: 1.463085  [17010/60000]\n",
      "loss: 1.747434  [18010/60000]\n",
      "loss: 1.563921  [19010/60000]\n",
      "loss: 1.474245  [20010/60000]\n",
      "loss: 1.463194  [21010/60000]\n",
      "loss: 1.544803  [22010/60000]\n",
      "loss: 1.461843  [23010/60000]\n",
      "loss: 1.485170  [24010/60000]\n",
      "loss: 1.512128  [25010/60000]\n",
      "loss: 1.461964  [26010/60000]\n",
      "loss: 1.469553  [27010/60000]\n",
      "loss: 1.462007  [28010/60000]\n",
      "loss: 1.499984  [29010/60000]\n",
      "loss: 1.473001  [30010/60000]\n",
      "loss: 1.471280  [31010/60000]\n",
      "loss: 1.491449  [32010/60000]\n",
      "loss: 1.478390  [33010/60000]\n",
      "loss: 1.500297  [34010/60000]\n",
      "loss: 1.466832  [35010/60000]\n",
      "loss: 1.468903  [36010/60000]\n",
      "loss: 1.487365  [37010/60000]\n",
      "loss: 1.463209  [38010/60000]\n",
      "loss: 1.505136  [39010/60000]\n",
      "loss: 1.607662  [40010/60000]\n",
      "loss: 1.462099  [41010/60000]\n",
      "loss: 1.468941  [42010/60000]\n",
      "loss: 1.474833  [43010/60000]\n",
      "loss: 1.465021  [44010/60000]\n",
      "loss: 1.470339  [45010/60000]\n",
      "loss: 1.562434  [46010/60000]\n",
      "loss: 1.551930  [47010/60000]\n",
      "loss: 1.463474  [48010/60000]\n",
      "loss: 1.557071  [49010/60000]\n",
      "loss: 1.561733  [50010/60000]\n",
      "loss: 1.461856  [51010/60000]\n",
      "loss: 1.461769  [52010/60000]\n",
      "loss: 1.584532  [53010/60000]\n",
      "loss: 1.462626  [54010/60000]\n",
      "loss: 1.461343  [55010/60000]\n",
      "loss: 1.562760  [56010/60000]\n",
      "loss: 1.461744  [57010/60000]\n",
      "loss: 1.461805  [58010/60000]\n",
      "loss: 1.546934  [59010/60000]\n",
      "Test Error: \n",
      " Accuracy: 95.8%, Avg loss: 1.498071 \n",
      "\n",
      "Epoch 9\n",
      "-------------------------------\n",
      "loss: 1.464945  [   10/60000]\n",
      "loss: 1.499032  [ 1010/60000]\n",
      "loss: 1.479783  [ 2010/60000]\n",
      "loss: 1.466455  [ 3010/60000]\n",
      "loss: 1.464354  [ 4010/60000]\n",
      "loss: 1.463637  [ 5010/60000]\n",
      "loss: 1.461522  [ 6010/60000]\n",
      "loss: 1.461372  [ 7010/60000]\n",
      "loss: 1.463552  [ 8010/60000]\n",
      "loss: 1.474188  [ 9010/60000]\n",
      "loss: 1.463160  [10010/60000]\n",
      "loss: 1.462604  [11010/60000]\n",
      "loss: 1.483786  [12010/60000]\n",
      "loss: 1.462647  [13010/60000]\n",
      "loss: 1.580884  [14010/60000]\n",
      "loss: 1.568441  [15010/60000]\n",
      "loss: 1.481727  [16010/60000]\n",
      "loss: 1.461665  [17010/60000]\n",
      "loss: 1.461616  [18010/60000]\n",
      "loss: 1.463156  [19010/60000]\n",
      "loss: 1.536899  [20010/60000]\n",
      "loss: 1.472189  [21010/60000]\n",
      "loss: 1.462906  [22010/60000]\n",
      "loss: 1.494753  [23010/60000]\n",
      "loss: 1.465675  [24010/60000]\n",
      "loss: 1.474513  [25010/60000]\n",
      "loss: 1.583218  [26010/60000]\n",
      "loss: 1.463056  [27010/60000]\n",
      "loss: 1.533682  [28010/60000]\n",
      "loss: 1.474287  [29010/60000]\n",
      "loss: 1.597944  [30010/60000]\n",
      "loss: 1.606293  [31010/60000]\n",
      "loss: 1.597014  [32010/60000]\n",
      "loss: 1.483692  [33010/60000]\n",
      "loss: 1.683344  [34010/60000]\n",
      "loss: 1.510619  [35010/60000]\n",
      "loss: 1.474409  [36010/60000]\n",
      "loss: 1.475184  [37010/60000]\n",
      "loss: 1.489852  [38010/60000]\n",
      "loss: 1.557457  [39010/60000]\n",
      "loss: 1.473765  [40010/60000]\n",
      "loss: 1.464072  [41010/60000]\n",
      "loss: 1.562014  [42010/60000]\n",
      "loss: 1.462394  [43010/60000]\n",
      "loss: 1.485568  [44010/60000]\n",
      "loss: 1.467103  [45010/60000]\n",
      "loss: 1.498658  [46010/60000]\n",
      "loss: 1.461311  [47010/60000]\n",
      "loss: 1.468967  [48010/60000]\n",
      "loss: 1.462005  [49010/60000]\n",
      "loss: 1.476259  [50010/60000]\n",
      "loss: 1.476868  [51010/60000]\n",
      "loss: 1.476838  [52010/60000]\n",
      "loss: 1.461651  [53010/60000]\n",
      "loss: 1.463015  [54010/60000]\n",
      "loss: 1.495773  [55010/60000]\n",
      "loss: 1.463441  [56010/60000]\n",
      "loss: 1.461683  [57010/60000]\n",
      "loss: 1.464540  [58010/60000]\n",
      "loss: 1.462800  [59010/60000]\n",
      "Test Error: \n",
      " Accuracy: 95.4%, Avg loss: 1.501036 \n",
      "\n",
      "Epoch 10\n",
      "-------------------------------\n",
      "loss: 1.463835  [   10/60000]\n",
      "loss: 1.566067  [ 1010/60000]\n",
      "loss: 1.464290  [ 2010/60000]\n",
      "loss: 1.484082  [ 3010/60000]\n",
      "loss: 1.465245  [ 4010/60000]\n",
      "loss: 1.461689  [ 5010/60000]\n",
      "loss: 1.463745  [ 6010/60000]\n",
      "loss: 1.570309  [ 7010/60000]\n",
      "loss: 1.461603  [ 8010/60000]\n",
      "loss: 1.465364  [ 9010/60000]\n",
      "loss: 1.563998  [10010/60000]\n",
      "loss: 1.461595  [11010/60000]\n",
      "loss: 1.501571  [12010/60000]\n",
      "loss: 1.464964  [13010/60000]\n",
      "loss: 1.472789  [14010/60000]\n",
      "loss: 1.461609  [15010/60000]\n",
      "loss: 1.659377  [16010/60000]\n",
      "loss: 1.463632  [17010/60000]\n",
      "loss: 1.462978  [18010/60000]\n",
      "loss: 1.461814  [19010/60000]\n",
      "loss: 1.489395  [20010/60000]\n",
      "loss: 1.474355  [21010/60000]\n",
      "loss: 1.551285  [22010/60000]\n",
      "loss: 1.546321  [23010/60000]\n",
      "loss: 1.478203  [24010/60000]\n",
      "loss: 1.481123  [25010/60000]\n",
      "loss: 1.488448  [26010/60000]\n",
      "loss: 1.479261  [27010/60000]\n",
      "loss: 1.483460  [28010/60000]\n",
      "loss: 1.508805  [29010/60000]\n",
      "loss: 1.570967  [30010/60000]\n",
      "loss: 1.461365  [31010/60000]\n",
      "loss: 1.470668  [32010/60000]\n",
      "loss: 1.462831  [33010/60000]\n",
      "loss: 1.462219  [34010/60000]\n",
      "loss: 1.493979  [35010/60000]\n",
      "loss: 1.466536  [36010/60000]\n",
      "loss: 1.467751  [37010/60000]\n",
      "loss: 1.461472  [38010/60000]\n",
      "loss: 1.477937  [39010/60000]\n",
      "loss: 1.473300  [40010/60000]\n",
      "loss: 1.487149  [41010/60000]\n",
      "loss: 1.461848  [42010/60000]\n",
      "loss: 1.480893  [43010/60000]\n",
      "loss: 1.476764  [44010/60000]\n",
      "loss: 1.573922  [45010/60000]\n",
      "loss: 1.462538  [46010/60000]\n",
      "loss: 1.486902  [47010/60000]\n",
      "loss: 1.478513  [48010/60000]\n",
      "loss: 1.462052  [49010/60000]\n",
      "loss: 1.461920  [50010/60000]\n",
      "loss: 1.503080  [51010/60000]\n",
      "loss: 1.477936  [52010/60000]\n",
      "loss: 1.653829  [53010/60000]\n",
      "loss: 1.461310  [54010/60000]\n",
      "loss: 1.468461  [55010/60000]\n",
      "loss: 1.469820  [56010/60000]\n",
      "loss: 1.461995  [57010/60000]\n",
      "loss: 1.475741  [58010/60000]\n",
      "loss: 1.461504  [59010/60000]\n",
      "Test Error: \n",
      " Accuracy: 95.5%, Avg loss: 1.499116 \n",
      "\n",
      "Done!\n"
     ]
    }
   ],
   "source": [
    "def train_loop(dataloader, model, loss_fn, optimizer):\n",
    "    size = len(dataloader.dataset)\n",
    "    model.train()\n",
    "    for batch, (X, y) in enumerate(dataloader):\n",
    "        # Compute prediction and loss\n",
    "        pred = model(X)\n",
    "        loss = loss_fn(pred, y)\n",
    "\n",
    "        # Backpropagation\n",
    "        loss.backward()\n",
    "        optimizer.step()\n",
    "        optimizer.zero_grad()\n",
    "\n",
    "        if batch % 100 == 0:\n",
    "            loss, current = loss.item(), batch * len(X) + len(X)\n",
    "            print(f\"loss: {loss:>7f}  [{current:>5d}/{size:>5d}]\")\n",
    "\n",
    "def test_loop(dataloader, model, loss_fn):\n",
    "    model.eval()\n",
    "    size = len(dataloader.dataset)\n",
    "    num_batches = len(dataloader)\n",
    "    test_loss, correct = 0, 0\n",
    "\n",
    "    with torch.no_grad():\n",
    "        for X, y in dataloader:\n",
    "            pred = model(X)\n",
    "            test_loss += loss_fn(pred, y).item()\n",
    "            correct += (pred.argmax(1) == y).type(torch.float).sum().item()\n",
    "\n",
    "    test_loss /= num_batches\n",
    "    correct /= size\n",
    "    print(f\"Test Error: \\n Accuracy: {(100*correct):>0.1f}%, Avg loss: {test_loss:>8f} \\n\")\n",
    "\n",
    "\n",
    "loss_fn = nn.CrossEntropyLoss()\n",
    "learning_rate = 0.12\n",
    "optimizer = optim.SGD(model.parameters(), lr=learning_rate, momentum=0.9)\n",
    "\n",
    "epochs = 10\n",
    "for t in range(epochs):\n",
    "    print(f\"Epoch {t+1}\\n-------------------------------\")\n",
    "    train_loop(train_dataloader, model, loss_fn, optimizer)\n",
    "    test_loop(test_dataloader, model, loss_fn)\n",
    "print(\"Done!\")"
   ]
  },
  {
   "cell_type": "markdown",
   "metadata": {},
   "source": [
    "Finally, now that the network has been trained, we're going to use it to classify the test sample, then keep the examples that are misclassified and display them."
   ]
  },
  {
   "cell_type": "code",
   "execution_count": 18,
   "metadata": {},
   "outputs": [
    {
     "name": "stdout",
     "output_type": "stream",
     "text": [
      "Misclassified samples 1:\n",
      "Reel classe: 5, Predicted classe: 8\n"
     ]
    },
    {
     "data": {
      "image/png": "[encoded data removed]",
      "text/plain": [
       "<Figure size 800x800 with 1 Axes>"
      ]
     },
     "metadata": {},
     "output_type": "display_data"
    },
    {
     "name": "stdout",
     "output_type": "stream",
     "text": [
      "Misclassified samples 2:\n",
      "Reel classe: 8, Predicted classe: 0\n"
     ]
    },
    {
     "data": {
      "image/png": "[encoded data removed]",
      "text/plain": [
       "<Figure size 800x800 with 1 Axes>"
      ]
     },
     "metadata": {},
     "output_type": "display_data"
    },
    {
     "name": "stdout",
     "output_type": "stream",
     "text": [
      "Misclassified samples 3:\n",
      "Reel classe: 7, Predicted classe: 2\n"
     ]
    },
    {
     "data": {
      "image/png": "[encoded data removed]",
      "text/plain": [
       "<Figure size 800x800 with 1 Axes>"
      ]
     },
     "metadata": {},
     "output_type": "display_data"
    },
    {
     "name": "stdout",
     "output_type": "stream",
     "text": [
      "Misclassified samples 4:\n",
      "Reel classe: 6, Predicted classe: 0\n"
     ]
    },
    {
     "data": {
      "image/png": "[encoded data removed]",
      "text/plain": [
       "<Figure size 800x800 with 1 Axes>"
      ]
     },
     "metadata": {},
     "output_type": "display_data"
    },
    {
     "name": "stdout",
     "output_type": "stream",
     "text": [
      "Misclassified samples 5:\n",
      "Reel classe: 2, Predicted classe: 7\n"
     ]
    },
    {
     "data": {
      "image/png": "[encoded data removed]",
      "text/plain": [
       "<Figure size 800x800 with 1 Axes>"
      ]
     },
     "metadata": {},
     "output_type": "display_data"
    },
    {
     "name": "stdout",
     "output_type": "stream",
     "text": [
      "Misclassified samples 6:\n",
      "Reel classe: 5, Predicted classe: 3\n"
     ]
    },
    {
     "data": {
      "image/png": "[encoded data removed]",
      "text/plain": [
       "<Figure size 800x800 with 1 Axes>"
      ]
     },
     "metadata": {},
     "output_type": "display_data"
    },
    {
     "name": "stdout",
     "output_type": "stream",
     "text": [
      "Misclassified samples 7:\n",
      "Reel classe: 9, Predicted classe: 7\n"
     ]
    },
    {
     "data": {
      "image/png": "[encoded data removed]",
      "text/plain": [
       "<Figure size 800x800 with 1 Axes>"
      ]
     },
     "metadata": {},
     "output_type": "display_data"
    },
    {
     "name": "stdout",
     "output_type": "stream",
     "text": [
      "Misclassified samples 8:\n",
      "Reel classe: 2, Predicted classe: 0\n"
     ]
    },
    {
     "data": {
      "image/png": "[encoded data removed]",
      "text/plain": [
       "<Figure size 800x800 with 1 Axes>"
      ]
     },
     "metadata": {},
     "output_type": "display_data"
    },
    {
     "name": "stdout",
     "output_type": "stream",
     "text": [
      "Misclassified samples 9:\n",
      "Reel classe: 8, Predicted classe: 2\n"
     ]
    },
    {
     "data": {
      "image/png": "[encoded data removed]",
      "text/plain": [
       "<Figure size 800x800 with 1 Axes>"
      ]
     },
     "metadata": {},
     "output_type": "display_data"
    },
    {
     "name": "stdout",
     "output_type": "stream",
     "text": [
      "Misclassified samples 10:\n",
      "Reel classe: 4, Predicted classe: 6\n"
     ]
    },
    {
     "data": {
      "image/png": "[encoded data removed]",
      "text/plain": [
       "<Figure size 800x800 with 1 Axes>"
      ]
     },
     "metadata": {},
     "output_type": "display_data"
    },
    {
     "name": "stdout",
     "output_type": "stream",
     "text": [
      "Misclassified samples 11:\n",
      "Reel classe: 0, Predicted classe: 7\n"
     ]
    },
    {
     "data": {
      "image/png": "[encoded data removed]",
      "text/plain": [
       "<Figure size 800x800 with 1 Axes>"
      ]
     },
     "metadata": {},
     "output_type": "display_data"
    },
    {
     "name": "stdout",
     "output_type": "stream",
     "text": [
      "Misclassified samples 12:\n",
      "Reel classe: 9, Predicted classe: 8\n"
     ]
    },
    {
     "data": {
      "image/png": "[encoded data removed]",
      "text/plain": [
       "<Figure size 800x800 with 1 Axes>"
      ]
     },
     "metadata": {},
     "output_type": "display_data"
    },
    {
     "name": "stdout",
     "output_type": "stream",
     "text": [
      "Misclassified samples 13:\n",
      "Reel classe: 9, Predicted classe: 3\n"
     ]
    },
    {
     "data": {
      "image/png": "[encoded data removed]",
      "text/plain": [
       "<Figure size 800x800 with 1 Axes>"
      ]
     },
     "metadata": {},
     "output_type": "display_data"
    },
    {
     "name": "stdout",
     "output_type": "stream",
     "text": [
      "Misclassified samples 14:\n",
      "Reel classe: 8, Predicted classe: 2\n"
     ]
    },
    {
     "data": {
      "image/png": "[encoded data removed]",
      "text/plain": [
       "<Figure size 800x800 with 1 Axes>"
      ]
     },
     "metadata": {},
     "output_type": "display_data"
    },
    {
     "name": "stdout",
     "output_type": "stream",
     "text": [
      "Misclassified samples 15:\n",
      "Reel classe: 4, Predicted classe: 9\n"
     ]
    },
    {
     "data": {
      "image/png": "[encoded data removed]",
      "text/plain": [
       "<Figure size 800x800 with 1 Axes>"
      ]
     },
     "metadata": {},
     "output_type": "display_data"
    },
    {
     "name": "stdout",
     "output_type": "stream",
     "text": [
      "Misclassified samples 16:\n",
      "Reel classe: 8, Predicted classe: 9\n"
     ]
    },
    {
     "data": {
      "image/png": "[encoded data removed]",
      "text/plain": [
       "<Figure size 800x800 with 1 Axes>"
      ]
     },
     "metadata": {},
     "output_type": "display_data"
    },
    {
     "name": "stdout",
     "output_type": "stream",
     "text": [
      "Misclassified samples 17:\n",
      "Reel classe: 1, Predicted classe: 6\n"
     ]
    },
    {
     "data": {
      "image/png": "[encoded data removed]",
      "text/plain": [
       "<Figure size 800x800 with 1 Axes>"
      ]
     },
     "metadata": {},
     "output_type": "display_data"
    },
    {
     "name": "stdout",
     "output_type": "stream",
     "text": [
      "Misclassified samples 18:\n",
      "Reel classe: 6, Predicted classe: 2\n"
     ]
    },
    {
     "data": {
      "image/png": "[encoded data removed]",
      "text/plain": [
       "<Figure size 800x800 with 1 Axes>"
      ]
     },
     "metadata": {},
     "output_type": "display_data"
    },
    {
     "name": "stdout",
     "output_type": "stream",
     "text": [
      "Misclassified samples 19:\n",
      "Reel classe: 6, Predicted classe: 2\n"
     ]
    },
    {
     "data": {
      "image/png": "[encoded data removed]",
      "text/plain": [
       "<Figure size 800x800 with 1 Axes>"
      ]
     },
     "metadata": {},
     "output_type": "display_data"
    },
    {
     "name": "stdout",
     "output_type": "stream",
     "text": [
      "Misclassified samples 20:\n",
      "Reel classe: 8, Predicted classe: 2\n"
     ]
    },
    {
     "ename": "KeyboardInterrupt",
     "evalue": "",
     "output_type": "error",
     "traceback": [
      "\u001b[1;31m---------------------------------------------------------------------------\u001b[0m",
      "\u001b[1;31mKeyboardInterrupt\u001b[0m                         Traceback (most recent call last)",
      "Cell \u001b[1;32mIn[18], line 34\u001b[0m\n\u001b[0;32m     32\u001b[0m \u001b[38;5;28mprint\u001b[39m(\u001b[38;5;124mf\u001b[39m\u001b[38;5;124m\"\u001b[39m\u001b[38;5;124mMisclassified samples \u001b[39m\u001b[38;5;132;01m{\u001b[39;00mi\u001b[38;5;241m+\u001b[39m\u001b[38;5;241m1\u001b[39m\u001b[38;5;132;01m}\u001b[39;00m\u001b[38;5;124m:\u001b[39m\u001b[38;5;124m\"\u001b[39m)\n\u001b[0;32m     33\u001b[0m \u001b[38;5;28mprint\u001b[39m(\u001b[38;5;124mf\u001b[39m\u001b[38;5;124m\"\u001b[39m\u001b[38;5;124mReel classe: \u001b[39m\u001b[38;5;132;01m{\u001b[39;00mtrue_label\u001b[38;5;132;01m}\u001b[39;00m\u001b[38;5;124m, Predicted classe: \u001b[39m\u001b[38;5;132;01m{\u001b[39;00mpredicted_label\u001b[38;5;132;01m}\u001b[39;00m\u001b[38;5;124m\"\u001b[39m)\n\u001b[1;32m---> 34\u001b[0m \u001b[43mimshow\u001b[49m\u001b[43m(\u001b[49m\u001b[43mimage\u001b[49m\u001b[43m,\u001b[49m\u001b[43m \u001b[49m\u001b[43mtitle\u001b[49m\u001b[38;5;241;43m=\u001b[39;49m\u001b[38;5;124;43mf\u001b[39;49m\u001b[38;5;124;43m\"\u001b[39;49m\u001b[38;5;124;43mReel classe: \u001b[39;49m\u001b[38;5;132;43;01m{\u001b[39;49;00m\u001b[43mtrue_label\u001b[49m\u001b[38;5;132;43;01m}\u001b[39;49;00m\u001b[38;5;124;43m, Predicted classe: \u001b[39;49m\u001b[38;5;132;43;01m{\u001b[39;49;00m\u001b[43mpredicted_label\u001b[49m\u001b[38;5;132;43;01m}\u001b[39;49;00m\u001b[38;5;124;43m\"\u001b[39;49m\u001b[43m)\u001b[49m\n",
      "Cell \u001b[1;32mIn[18], line 10\u001b[0m, in \u001b[0;36mimshow\u001b[1;34m(img, title)\u001b[0m\n\u001b[0;32m      8\u001b[0m plt\u001b[38;5;241m.\u001b[39mtitle(title)\n\u001b[0;32m      9\u001b[0m plt\u001b[38;5;241m.\u001b[39maxis(\u001b[38;5;124m'\u001b[39m\u001b[38;5;124moff\u001b[39m\u001b[38;5;124m'\u001b[39m)\n\u001b[1;32m---> 10\u001b[0m \u001b[43mplt\u001b[49m\u001b[38;5;241;43m.\u001b[39;49m\u001b[43mshow\u001b[49m\u001b[43m(\u001b[49m\u001b[43m)\u001b[49m\n",
      "File \u001b[1;32mc:\\Users\\jonat\\AppData\\Local\\Programs\\Python\\Python312\\Lib\\site-packages\\matplotlib\\pyplot.py:527\u001b[0m, in \u001b[0;36mshow\u001b[1;34m(*args, **kwargs)\u001b[0m\n\u001b[0;32m    483\u001b[0m \u001b[38;5;250m\u001b[39m\u001b[38;5;124;03m\"\"\"\u001b[39;00m\n\u001b[0;32m    484\u001b[0m \u001b[38;5;124;03mDisplay all open figures.\u001b[39;00m\n\u001b[0;32m    485\u001b[0m \n\u001b[1;32m   (...)\u001b[0m\n\u001b[0;32m    524\u001b[0m \u001b[38;5;124;03mexplicitly there.\u001b[39;00m\n\u001b[0;32m    525\u001b[0m \u001b[38;5;124;03m\"\"\"\u001b[39;00m\n\u001b[0;32m    526\u001b[0m _warn_if_gui_out_of_main_thread()\n\u001b[1;32m--> 527\u001b[0m \u001b[38;5;28;01mreturn\u001b[39;00m \u001b[43m_get_backend_mod\u001b[49m\u001b[43m(\u001b[49m\u001b[43m)\u001b[49m\u001b[38;5;241;43m.\u001b[39;49m\u001b[43mshow\u001b[49m\u001b[43m(\u001b[49m\u001b[38;5;241;43m*\u001b[39;49m\u001b[43margs\u001b[49m\u001b[43m,\u001b[49m\u001b[43m \u001b[49m\u001b[38;5;241;43m*\u001b[39;49m\u001b[38;5;241;43m*\u001b[39;49m\u001b[43mkwargs\u001b[49m\u001b[43m)\u001b[49m\n",
      "File \u001b[1;32m~\\AppData\\Roaming\\Python\\Python312\\site-packages\\matplotlib_inline\\backend_inline.py:90\u001b[0m, in \u001b[0;36mshow\u001b[1;34m(close, block)\u001b[0m\n\u001b[0;32m     88\u001b[0m \u001b[38;5;28;01mtry\u001b[39;00m:\n\u001b[0;32m     89\u001b[0m     \u001b[38;5;28;01mfor\u001b[39;00m figure_manager \u001b[38;5;129;01min\u001b[39;00m Gcf\u001b[38;5;241m.\u001b[39mget_all_fig_managers():\n\u001b[1;32m---> 90\u001b[0m         \u001b[43mdisplay\u001b[49m\u001b[43m(\u001b[49m\n\u001b[0;32m     91\u001b[0m \u001b[43m            \u001b[49m\u001b[43mfigure_manager\u001b[49m\u001b[38;5;241;43m.\u001b[39;49m\u001b[43mcanvas\u001b[49m\u001b[38;5;241;43m.\u001b[39;49m\u001b[43mfigure\u001b[49m\u001b[43m,\u001b[49m\n\u001b[0;32m     92\u001b[0m \u001b[43m            \u001b[49m\u001b[43mmetadata\u001b[49m\u001b[38;5;241;43m=\u001b[39;49m\u001b[43m_fetch_figure_metadata\u001b[49m\u001b[43m(\u001b[49m\u001b[43mfigure_manager\u001b[49m\u001b[38;5;241;43m.\u001b[39;49m\u001b[43mcanvas\u001b[49m\u001b[38;5;241;43m.\u001b[39;49m\u001b[43mfigure\u001b[49m\u001b[43m)\u001b[49m\n\u001b[0;32m     93\u001b[0m \u001b[43m        \u001b[49m\u001b[43m)\u001b[49m\n\u001b[0;32m     94\u001b[0m \u001b[38;5;28;01mfinally\u001b[39;00m:\n\u001b[0;32m     95\u001b[0m     show\u001b[38;5;241m.\u001b[39m_to_draw \u001b[38;5;241m=\u001b[39m []\n",
      "File \u001b[1;32m~\\AppData\\Roaming\\Python\\Python312\\site-packages\\IPython\\core\\display_functions.py:298\u001b[0m, in \u001b[0;36mdisplay\u001b[1;34m(include, exclude, metadata, transient, display_id, raw, clear, *objs, **kwargs)\u001b[0m\n\u001b[0;32m    296\u001b[0m     publish_display_data(data\u001b[38;5;241m=\u001b[39mobj, metadata\u001b[38;5;241m=\u001b[39mmetadata, \u001b[38;5;241m*\u001b[39m\u001b[38;5;241m*\u001b[39mkwargs)\n\u001b[0;32m    297\u001b[0m \u001b[38;5;28;01melse\u001b[39;00m:\n\u001b[1;32m--> 298\u001b[0m     format_dict, md_dict \u001b[38;5;241m=\u001b[39m \u001b[38;5;28;43mformat\u001b[39;49m\u001b[43m(\u001b[49m\u001b[43mobj\u001b[49m\u001b[43m,\u001b[49m\u001b[43m \u001b[49m\u001b[43minclude\u001b[49m\u001b[38;5;241;43m=\u001b[39;49m\u001b[43minclude\u001b[49m\u001b[43m,\u001b[49m\u001b[43m \u001b[49m\u001b[43mexclude\u001b[49m\u001b[38;5;241;43m=\u001b[39;49m\u001b[43mexclude\u001b[49m\u001b[43m)\u001b[49m\n\u001b[0;32m    299\u001b[0m     \u001b[38;5;28;01mif\u001b[39;00m \u001b[38;5;129;01mnot\u001b[39;00m format_dict:\n\u001b[0;32m    300\u001b[0m         \u001b[38;5;66;03m# nothing to display (e.g. _ipython_display_ took over)\u001b[39;00m\n\u001b[0;32m    301\u001b[0m         \u001b[38;5;28;01mcontinue\u001b[39;00m\n",
      "File \u001b[1;32m~\\AppData\\Roaming\\Python\\Python312\\site-packages\\IPython\\core\\formatters.py:182\u001b[0m, in \u001b[0;36mDisplayFormatter.format\u001b[1;34m(self, obj, include, exclude)\u001b[0m\n\u001b[0;32m    180\u001b[0m md \u001b[38;5;241m=\u001b[39m \u001b[38;5;28;01mNone\u001b[39;00m\n\u001b[0;32m    181\u001b[0m \u001b[38;5;28;01mtry\u001b[39;00m:\n\u001b[1;32m--> 182\u001b[0m     data \u001b[38;5;241m=\u001b[39m \u001b[43mformatter\u001b[49m\u001b[43m(\u001b[49m\u001b[43mobj\u001b[49m\u001b[43m)\u001b[49m\n\u001b[0;32m    183\u001b[0m \u001b[38;5;28;01mexcept\u001b[39;00m:\n\u001b[0;32m    184\u001b[0m     \u001b[38;5;66;03m# FIXME: log the exception\u001b[39;00m\n\u001b[0;32m    185\u001b[0m     \u001b[38;5;28;01mraise\u001b[39;00m\n",
      "File \u001b[1;32m~\\AppData\\Roaming\\Python\\Python312\\site-packages\\decorator.py:232\u001b[0m, in \u001b[0;36mdecorate.<locals>.fun\u001b[1;34m(*args, **kw)\u001b[0m\n\u001b[0;32m    230\u001b[0m \u001b[38;5;28;01mif\u001b[39;00m \u001b[38;5;129;01mnot\u001b[39;00m kwsyntax:\n\u001b[0;32m    231\u001b[0m     args, kw \u001b[38;5;241m=\u001b[39m fix(args, kw, sig)\n\u001b[1;32m--> 232\u001b[0m \u001b[38;5;28;01mreturn\u001b[39;00m \u001b[43mcaller\u001b[49m\u001b[43m(\u001b[49m\u001b[43mfunc\u001b[49m\u001b[43m,\u001b[49m\u001b[43m \u001b[49m\u001b[38;5;241;43m*\u001b[39;49m\u001b[43m(\u001b[49m\u001b[43mextras\u001b[49m\u001b[43m \u001b[49m\u001b[38;5;241;43m+\u001b[39;49m\u001b[43m \u001b[49m\u001b[43margs\u001b[49m\u001b[43m)\u001b[49m\u001b[43m,\u001b[49m\u001b[43m \u001b[49m\u001b[38;5;241;43m*\u001b[39;49m\u001b[38;5;241;43m*\u001b[39;49m\u001b[43mkw\u001b[49m\u001b[43m)\u001b[49m\n",
      "File \u001b[1;32m~\\AppData\\Roaming\\Python\\Python312\\site-packages\\IPython\\core\\formatters.py:226\u001b[0m, in \u001b[0;36mcatch_format_error\u001b[1;34m(method, self, *args, **kwargs)\u001b[0m\n\u001b[0;32m    224\u001b[0m \u001b[38;5;250m\u001b[39m\u001b[38;5;124;03m\"\"\"show traceback on failed format call\"\"\"\u001b[39;00m\n\u001b[0;32m    225\u001b[0m \u001b[38;5;28;01mtry\u001b[39;00m:\n\u001b[1;32m--> 226\u001b[0m     r \u001b[38;5;241m=\u001b[39m \u001b[43mmethod\u001b[49m\u001b[43m(\u001b[49m\u001b[38;5;28;43mself\u001b[39;49m\u001b[43m,\u001b[49m\u001b[43m \u001b[49m\u001b[38;5;241;43m*\u001b[39;49m\u001b[43margs\u001b[49m\u001b[43m,\u001b[49m\u001b[43m \u001b[49m\u001b[38;5;241;43m*\u001b[39;49m\u001b[38;5;241;43m*\u001b[39;49m\u001b[43mkwargs\u001b[49m\u001b[43m)\u001b[49m\n\u001b[0;32m    227\u001b[0m \u001b[38;5;28;01mexcept\u001b[39;00m \u001b[38;5;167;01mNotImplementedError\u001b[39;00m:\n\u001b[0;32m    228\u001b[0m     \u001b[38;5;66;03m# don't warn on NotImplementedErrors\u001b[39;00m\n\u001b[0;32m    229\u001b[0m     \u001b[38;5;28;01mreturn\u001b[39;00m \u001b[38;5;28mself\u001b[39m\u001b[38;5;241m.\u001b[39m_check_return(\u001b[38;5;28;01mNone\u001b[39;00m, args[\u001b[38;5;241m0\u001b[39m])\n",
      "File \u001b[1;32m~\\AppData\\Roaming\\Python\\Python312\\site-packages\\IPython\\core\\formatters.py:343\u001b[0m, in \u001b[0;36mBaseFormatter.__call__\u001b[1;34m(self, obj)\u001b[0m\n\u001b[0;32m    341\u001b[0m     \u001b[38;5;28;01mpass\u001b[39;00m\n\u001b[0;32m    342\u001b[0m \u001b[38;5;28;01melse\u001b[39;00m:\n\u001b[1;32m--> 343\u001b[0m     \u001b[38;5;28;01mreturn\u001b[39;00m \u001b[43mprinter\u001b[49m\u001b[43m(\u001b[49m\u001b[43mobj\u001b[49m\u001b[43m)\u001b[49m\n\u001b[0;32m    344\u001b[0m \u001b[38;5;66;03m# Finally look for special method names\u001b[39;00m\n\u001b[0;32m    345\u001b[0m method \u001b[38;5;241m=\u001b[39m get_real_method(obj, \u001b[38;5;28mself\u001b[39m\u001b[38;5;241m.\u001b[39mprint_method)\n",
      "File \u001b[1;32m~\\AppData\\Roaming\\Python\\Python312\\site-packages\\IPython\\core\\pylabtools.py:152\u001b[0m, in \u001b[0;36mprint_figure\u001b[1;34m(fig, fmt, bbox_inches, base64, **kwargs)\u001b[0m\n\u001b[0;32m    149\u001b[0m     \u001b[38;5;28;01mfrom\u001b[39;00m \u001b[38;5;21;01mmatplotlib\u001b[39;00m\u001b[38;5;21;01m.\u001b[39;00m\u001b[38;5;21;01mbackend_bases\u001b[39;00m \u001b[38;5;28;01mimport\u001b[39;00m FigureCanvasBase\n\u001b[0;32m    150\u001b[0m     FigureCanvasBase(fig)\n\u001b[1;32m--> 152\u001b[0m \u001b[43mfig\u001b[49m\u001b[38;5;241;43m.\u001b[39;49m\u001b[43mcanvas\u001b[49m\u001b[38;5;241;43m.\u001b[39;49m\u001b[43mprint_figure\u001b[49m\u001b[43m(\u001b[49m\u001b[43mbytes_io\u001b[49m\u001b[43m,\u001b[49m\u001b[43m \u001b[49m\u001b[38;5;241;43m*\u001b[39;49m\u001b[38;5;241;43m*\u001b[39;49m\u001b[43mkw\u001b[49m\u001b[43m)\u001b[49m\n\u001b[0;32m    153\u001b[0m data \u001b[38;5;241m=\u001b[39m bytes_io\u001b[38;5;241m.\u001b[39mgetvalue()\n\u001b[0;32m    154\u001b[0m \u001b[38;5;28;01mif\u001b[39;00m fmt \u001b[38;5;241m==\u001b[39m \u001b[38;5;124m'\u001b[39m\u001b[38;5;124msvg\u001b[39m\u001b[38;5;124m'\u001b[39m:\n",
      "File \u001b[1;32mc:\\Users\\jonat\\AppData\\Local\\Programs\\Python\\Python312\\Lib\\site-packages\\matplotlib\\backend_bases.py:2164\u001b[0m, in \u001b[0;36mFigureCanvasBase.print_figure\u001b[1;34m(self, filename, dpi, facecolor, edgecolor, orientation, format, bbox_inches, pad_inches, bbox_extra_artists, backend, **kwargs)\u001b[0m\n\u001b[0;32m   2161\u001b[0m     \u001b[38;5;66;03m# we do this instead of `self.figure.draw_without_rendering`\u001b[39;00m\n\u001b[0;32m   2162\u001b[0m     \u001b[38;5;66;03m# so that we can inject the orientation\u001b[39;00m\n\u001b[0;32m   2163\u001b[0m     \u001b[38;5;28;01mwith\u001b[39;00m \u001b[38;5;28mgetattr\u001b[39m(renderer, \u001b[38;5;124m\"\u001b[39m\u001b[38;5;124m_draw_disabled\u001b[39m\u001b[38;5;124m\"\u001b[39m, nullcontext)():\n\u001b[1;32m-> 2164\u001b[0m         \u001b[38;5;28;43mself\u001b[39;49m\u001b[38;5;241;43m.\u001b[39;49m\u001b[43mfigure\u001b[49m\u001b[38;5;241;43m.\u001b[39;49m\u001b[43mdraw\u001b[49m\u001b[43m(\u001b[49m\u001b[43mrenderer\u001b[49m\u001b[43m)\u001b[49m\n\u001b[0;32m   2165\u001b[0m \u001b[38;5;28;01mif\u001b[39;00m bbox_inches:\n\u001b[0;32m   2166\u001b[0m     \u001b[38;5;28;01mif\u001b[39;00m bbox_inches \u001b[38;5;241m==\u001b[39m \u001b[38;5;124m\"\u001b[39m\u001b[38;5;124mtight\u001b[39m\u001b[38;5;124m\"\u001b[39m:\n",
      "File \u001b[1;32mc:\\Users\\jonat\\AppData\\Local\\Programs\\Python\\Python312\\Lib\\site-packages\\matplotlib\\artist.py:95\u001b[0m, in \u001b[0;36m_finalize_rasterization.<locals>.draw_wrapper\u001b[1;34m(artist, renderer, *args, **kwargs)\u001b[0m\n\u001b[0;32m     93\u001b[0m \u001b[38;5;129m@wraps\u001b[39m(draw)\n\u001b[0;32m     94\u001b[0m \u001b[38;5;28;01mdef\u001b[39;00m \u001b[38;5;21mdraw_wrapper\u001b[39m(artist, renderer, \u001b[38;5;241m*\u001b[39margs, \u001b[38;5;241m*\u001b[39m\u001b[38;5;241m*\u001b[39mkwargs):\n\u001b[1;32m---> 95\u001b[0m     result \u001b[38;5;241m=\u001b[39m \u001b[43mdraw\u001b[49m\u001b[43m(\u001b[49m\u001b[43martist\u001b[49m\u001b[43m,\u001b[49m\u001b[43m \u001b[49m\u001b[43mrenderer\u001b[49m\u001b[43m,\u001b[49m\u001b[43m \u001b[49m\u001b[38;5;241;43m*\u001b[39;49m\u001b[43margs\u001b[49m\u001b[43m,\u001b[49m\u001b[43m \u001b[49m\u001b[38;5;241;43m*\u001b[39;49m\u001b[38;5;241;43m*\u001b[39;49m\u001b[43mkwargs\u001b[49m\u001b[43m)\u001b[49m\n\u001b[0;32m     96\u001b[0m     \u001b[38;5;28;01mif\u001b[39;00m renderer\u001b[38;5;241m.\u001b[39m_rasterizing:\n\u001b[0;32m     97\u001b[0m         renderer\u001b[38;5;241m.\u001b[39mstop_rasterizing()\n",
      "File \u001b[1;32mc:\\Users\\jonat\\AppData\\Local\\Programs\\Python\\Python312\\Lib\\site-packages\\matplotlib\\artist.py:72\u001b[0m, in \u001b[0;36mallow_rasterization.<locals>.draw_wrapper\u001b[1;34m(artist, renderer)\u001b[0m\n\u001b[0;32m     69\u001b[0m     \u001b[38;5;28;01mif\u001b[39;00m artist\u001b[38;5;241m.\u001b[39mget_agg_filter() \u001b[38;5;129;01mis\u001b[39;00m \u001b[38;5;129;01mnot\u001b[39;00m \u001b[38;5;28;01mNone\u001b[39;00m:\n\u001b[0;32m     70\u001b[0m         renderer\u001b[38;5;241m.\u001b[39mstart_filter()\n\u001b[1;32m---> 72\u001b[0m     \u001b[38;5;28;01mreturn\u001b[39;00m \u001b[43mdraw\u001b[49m\u001b[43m(\u001b[49m\u001b[43martist\u001b[49m\u001b[43m,\u001b[49m\u001b[43m \u001b[49m\u001b[43mrenderer\u001b[49m\u001b[43m)\u001b[49m\n\u001b[0;32m     73\u001b[0m \u001b[38;5;28;01mfinally\u001b[39;00m:\n\u001b[0;32m     74\u001b[0m     \u001b[38;5;28;01mif\u001b[39;00m artist\u001b[38;5;241m.\u001b[39mget_agg_filter() \u001b[38;5;129;01mis\u001b[39;00m \u001b[38;5;129;01mnot\u001b[39;00m \u001b[38;5;28;01mNone\u001b[39;00m:\n",
      "File \u001b[1;32mc:\\Users\\jonat\\AppData\\Local\\Programs\\Python\\Python312\\Lib\\site-packages\\matplotlib\\figure.py:3154\u001b[0m, in \u001b[0;36mFigure.draw\u001b[1;34m(self, renderer)\u001b[0m\n\u001b[0;32m   3151\u001b[0m         \u001b[38;5;66;03m# ValueError can occur when resizing a window.\u001b[39;00m\n\u001b[0;32m   3153\u001b[0m \u001b[38;5;28mself\u001b[39m\u001b[38;5;241m.\u001b[39mpatch\u001b[38;5;241m.\u001b[39mdraw(renderer)\n\u001b[1;32m-> 3154\u001b[0m \u001b[43mmimage\u001b[49m\u001b[38;5;241;43m.\u001b[39;49m\u001b[43m_draw_list_compositing_images\u001b[49m\u001b[43m(\u001b[49m\n\u001b[0;32m   3155\u001b[0m \u001b[43m    \u001b[49m\u001b[43mrenderer\u001b[49m\u001b[43m,\u001b[49m\u001b[43m \u001b[49m\u001b[38;5;28;43mself\u001b[39;49m\u001b[43m,\u001b[49m\u001b[43m \u001b[49m\u001b[43martists\u001b[49m\u001b[43m,\u001b[49m\u001b[43m \u001b[49m\u001b[38;5;28;43mself\u001b[39;49m\u001b[38;5;241;43m.\u001b[39;49m\u001b[43msuppressComposite\u001b[49m\u001b[43m)\u001b[49m\n\u001b[0;32m   3157\u001b[0m \u001b[38;5;28;01mfor\u001b[39;00m sfig \u001b[38;5;129;01min\u001b[39;00m \u001b[38;5;28mself\u001b[39m\u001b[38;5;241m.\u001b[39msubfigs:\n\u001b[0;32m   3158\u001b[0m     sfig\u001b[38;5;241m.\u001b[39mdraw(renderer)\n",
      "File \u001b[1;32mc:\\Users\\jonat\\AppData\\Local\\Programs\\Python\\Python312\\Lib\\site-packages\\matplotlib\\image.py:132\u001b[0m, in \u001b[0;36m_draw_list_compositing_images\u001b[1;34m(renderer, parent, artists, suppress_composite)\u001b[0m\n\u001b[0;32m    130\u001b[0m \u001b[38;5;28;01mif\u001b[39;00m not_composite \u001b[38;5;129;01mor\u001b[39;00m \u001b[38;5;129;01mnot\u001b[39;00m has_images:\n\u001b[0;32m    131\u001b[0m     \u001b[38;5;28;01mfor\u001b[39;00m a \u001b[38;5;129;01min\u001b[39;00m artists:\n\u001b[1;32m--> 132\u001b[0m         \u001b[43ma\u001b[49m\u001b[38;5;241;43m.\u001b[39;49m\u001b[43mdraw\u001b[49m\u001b[43m(\u001b[49m\u001b[43mrenderer\u001b[49m\u001b[43m)\u001b[49m\n\u001b[0;32m    133\u001b[0m \u001b[38;5;28;01melse\u001b[39;00m:\n\u001b[0;32m    134\u001b[0m     \u001b[38;5;66;03m# Composite any adjacent images together\u001b[39;00m\n\u001b[0;32m    135\u001b[0m     image_group \u001b[38;5;241m=\u001b[39m []\n",
      "File \u001b[1;32mc:\\Users\\jonat\\AppData\\Local\\Programs\\Python\\Python312\\Lib\\site-packages\\matplotlib\\artist.py:72\u001b[0m, in \u001b[0;36mallow_rasterization.<locals>.draw_wrapper\u001b[1;34m(artist, renderer)\u001b[0m\n\u001b[0;32m     69\u001b[0m     \u001b[38;5;28;01mif\u001b[39;00m artist\u001b[38;5;241m.\u001b[39mget_agg_filter() \u001b[38;5;129;01mis\u001b[39;00m \u001b[38;5;129;01mnot\u001b[39;00m \u001b[38;5;28;01mNone\u001b[39;00m:\n\u001b[0;32m     70\u001b[0m         renderer\u001b[38;5;241m.\u001b[39mstart_filter()\n\u001b[1;32m---> 72\u001b[0m     \u001b[38;5;28;01mreturn\u001b[39;00m \u001b[43mdraw\u001b[49m\u001b[43m(\u001b[49m\u001b[43martist\u001b[49m\u001b[43m,\u001b[49m\u001b[43m \u001b[49m\u001b[43mrenderer\u001b[49m\u001b[43m)\u001b[49m\n\u001b[0;32m     73\u001b[0m \u001b[38;5;28;01mfinally\u001b[39;00m:\n\u001b[0;32m     74\u001b[0m     \u001b[38;5;28;01mif\u001b[39;00m artist\u001b[38;5;241m.\u001b[39mget_agg_filter() \u001b[38;5;129;01mis\u001b[39;00m \u001b[38;5;129;01mnot\u001b[39;00m \u001b[38;5;28;01mNone\u001b[39;00m:\n",
      "File \u001b[1;32mc:\\Users\\jonat\\AppData\\Local\\Programs\\Python\\Python312\\Lib\\site-packages\\matplotlib\\axes\\_base.py:3070\u001b[0m, in \u001b[0;36m_AxesBase.draw\u001b[1;34m(self, renderer)\u001b[0m\n\u001b[0;32m   3067\u001b[0m \u001b[38;5;28;01mif\u001b[39;00m artists_rasterized:\n\u001b[0;32m   3068\u001b[0m     _draw_rasterized(\u001b[38;5;28mself\u001b[39m\u001b[38;5;241m.\u001b[39mfigure, artists_rasterized, renderer)\n\u001b[1;32m-> 3070\u001b[0m \u001b[43mmimage\u001b[49m\u001b[38;5;241;43m.\u001b[39;49m\u001b[43m_draw_list_compositing_images\u001b[49m\u001b[43m(\u001b[49m\n\u001b[0;32m   3071\u001b[0m \u001b[43m    \u001b[49m\u001b[43mrenderer\u001b[49m\u001b[43m,\u001b[49m\u001b[43m \u001b[49m\u001b[38;5;28;43mself\u001b[39;49m\u001b[43m,\u001b[49m\u001b[43m \u001b[49m\u001b[43martists\u001b[49m\u001b[43m,\u001b[49m\u001b[43m \u001b[49m\u001b[38;5;28;43mself\u001b[39;49m\u001b[38;5;241;43m.\u001b[39;49m\u001b[43mfigure\u001b[49m\u001b[38;5;241;43m.\u001b[39;49m\u001b[43msuppressComposite\u001b[49m\u001b[43m)\u001b[49m\n\u001b[0;32m   3073\u001b[0m renderer\u001b[38;5;241m.\u001b[39mclose_group(\u001b[38;5;124m'\u001b[39m\u001b[38;5;124maxes\u001b[39m\u001b[38;5;124m'\u001b[39m)\n\u001b[0;32m   3074\u001b[0m \u001b[38;5;28mself\u001b[39m\u001b[38;5;241m.\u001b[39mstale \u001b[38;5;241m=\u001b[39m \u001b[38;5;28;01mFalse\u001b[39;00m\n",
      "File \u001b[1;32mc:\\Users\\jonat\\AppData\\Local\\Programs\\Python\\Python312\\Lib\\site-packages\\matplotlib\\image.py:132\u001b[0m, in \u001b[0;36m_draw_list_compositing_images\u001b[1;34m(renderer, parent, artists, suppress_composite)\u001b[0m\n\u001b[0;32m    130\u001b[0m \u001b[38;5;28;01mif\u001b[39;00m not_composite \u001b[38;5;129;01mor\u001b[39;00m \u001b[38;5;129;01mnot\u001b[39;00m has_images:\n\u001b[0;32m    131\u001b[0m     \u001b[38;5;28;01mfor\u001b[39;00m a \u001b[38;5;129;01min\u001b[39;00m artists:\n\u001b[1;32m--> 132\u001b[0m         \u001b[43ma\u001b[49m\u001b[38;5;241;43m.\u001b[39;49m\u001b[43mdraw\u001b[49m\u001b[43m(\u001b[49m\u001b[43mrenderer\u001b[49m\u001b[43m)\u001b[49m\n\u001b[0;32m    133\u001b[0m \u001b[38;5;28;01melse\u001b[39;00m:\n\u001b[0;32m    134\u001b[0m     \u001b[38;5;66;03m# Composite any adjacent images together\u001b[39;00m\n\u001b[0;32m    135\u001b[0m     image_group \u001b[38;5;241m=\u001b[39m []\n",
      "File \u001b[1;32mc:\\Users\\jonat\\AppData\\Local\\Programs\\Python\\Python312\\Lib\\site-packages\\matplotlib\\artist.py:72\u001b[0m, in \u001b[0;36mallow_rasterization.<locals>.draw_wrapper\u001b[1;34m(artist, renderer)\u001b[0m\n\u001b[0;32m     69\u001b[0m     \u001b[38;5;28;01mif\u001b[39;00m artist\u001b[38;5;241m.\u001b[39mget_agg_filter() \u001b[38;5;129;01mis\u001b[39;00m \u001b[38;5;129;01mnot\u001b[39;00m \u001b[38;5;28;01mNone\u001b[39;00m:\n\u001b[0;32m     70\u001b[0m         renderer\u001b[38;5;241m.\u001b[39mstart_filter()\n\u001b[1;32m---> 72\u001b[0m     \u001b[38;5;28;01mreturn\u001b[39;00m \u001b[43mdraw\u001b[49m\u001b[43m(\u001b[49m\u001b[43martist\u001b[49m\u001b[43m,\u001b[49m\u001b[43m \u001b[49m\u001b[43mrenderer\u001b[49m\u001b[43m)\u001b[49m\n\u001b[0;32m     73\u001b[0m \u001b[38;5;28;01mfinally\u001b[39;00m:\n\u001b[0;32m     74\u001b[0m     \u001b[38;5;28;01mif\u001b[39;00m artist\u001b[38;5;241m.\u001b[39mget_agg_filter() \u001b[38;5;129;01mis\u001b[39;00m \u001b[38;5;129;01mnot\u001b[39;00m \u001b[38;5;28;01mNone\u001b[39;00m:\n",
      "File \u001b[1;32mc:\\Users\\jonat\\AppData\\Local\\Programs\\Python\\Python312\\Lib\\site-packages\\matplotlib\\image.py:649\u001b[0m, in \u001b[0;36m_ImageBase.draw\u001b[1;34m(self, renderer, *args, **kwargs)\u001b[0m\n\u001b[0;32m    647\u001b[0m         renderer\u001b[38;5;241m.\u001b[39mdraw_image(gc, l, b, im, trans)\n\u001b[0;32m    648\u001b[0m \u001b[38;5;28;01melse\u001b[39;00m:\n\u001b[1;32m--> 649\u001b[0m     im, l, b, trans \u001b[38;5;241m=\u001b[39m \u001b[38;5;28;43mself\u001b[39;49m\u001b[38;5;241;43m.\u001b[39;49m\u001b[43mmake_image\u001b[49m\u001b[43m(\u001b[49m\n\u001b[0;32m    650\u001b[0m \u001b[43m        \u001b[49m\u001b[43mrenderer\u001b[49m\u001b[43m,\u001b[49m\u001b[43m \u001b[49m\u001b[43mrenderer\u001b[49m\u001b[38;5;241;43m.\u001b[39;49m\u001b[43mget_image_magnification\u001b[49m\u001b[43m(\u001b[49m\u001b[43m)\u001b[49m\u001b[43m)\u001b[49m\n\u001b[0;32m    651\u001b[0m     \u001b[38;5;28;01mif\u001b[39;00m im \u001b[38;5;129;01mis\u001b[39;00m \u001b[38;5;129;01mnot\u001b[39;00m \u001b[38;5;28;01mNone\u001b[39;00m:\n\u001b[0;32m    652\u001b[0m         renderer\u001b[38;5;241m.\u001b[39mdraw_image(gc, l, b, im)\n",
      "File \u001b[1;32mc:\\Users\\jonat\\AppData\\Local\\Programs\\Python\\Python312\\Lib\\site-packages\\matplotlib\\image.py:939\u001b[0m, in \u001b[0;36mAxesImage.make_image\u001b[1;34m(self, renderer, magnification, unsampled)\u001b[0m\n\u001b[0;32m    936\u001b[0m transformed_bbox \u001b[38;5;241m=\u001b[39m TransformedBbox(bbox, trans)\n\u001b[0;32m    937\u001b[0m clip \u001b[38;5;241m=\u001b[39m ((\u001b[38;5;28mself\u001b[39m\u001b[38;5;241m.\u001b[39mget_clip_box() \u001b[38;5;129;01mor\u001b[39;00m \u001b[38;5;28mself\u001b[39m\u001b[38;5;241m.\u001b[39maxes\u001b[38;5;241m.\u001b[39mbbox) \u001b[38;5;28;01mif\u001b[39;00m \u001b[38;5;28mself\u001b[39m\u001b[38;5;241m.\u001b[39mget_clip_on()\n\u001b[0;32m    938\u001b[0m         \u001b[38;5;28;01melse\u001b[39;00m \u001b[38;5;28mself\u001b[39m\u001b[38;5;241m.\u001b[39mfigure\u001b[38;5;241m.\u001b[39mbbox)\n\u001b[1;32m--> 939\u001b[0m \u001b[38;5;28;01mreturn\u001b[39;00m \u001b[38;5;28;43mself\u001b[39;49m\u001b[38;5;241;43m.\u001b[39;49m\u001b[43m_make_image\u001b[49m\u001b[43m(\u001b[49m\u001b[38;5;28;43mself\u001b[39;49m\u001b[38;5;241;43m.\u001b[39;49m\u001b[43m_A\u001b[49m\u001b[43m,\u001b[49m\u001b[43m \u001b[49m\u001b[43mbbox\u001b[49m\u001b[43m,\u001b[49m\u001b[43m \u001b[49m\u001b[43mtransformed_bbox\u001b[49m\u001b[43m,\u001b[49m\u001b[43m \u001b[49m\u001b[43mclip\u001b[49m\u001b[43m,\u001b[49m\n\u001b[0;32m    940\u001b[0m \u001b[43m                        \u001b[49m\u001b[43mmagnification\u001b[49m\u001b[43m,\u001b[49m\u001b[43m \u001b[49m\u001b[43munsampled\u001b[49m\u001b[38;5;241;43m=\u001b[39;49m\u001b[43munsampled\u001b[49m\u001b[43m)\u001b[49m\n",
      "File \u001b[1;32mc:\\Users\\jonat\\AppData\\Local\\Programs\\Python\\Python312\\Lib\\site-packages\\matplotlib\\image.py:526\u001b[0m, in \u001b[0;36m_ImageBase._make_image\u001b[1;34m(self, A, in_bbox, out_bbox, clip_bbox, magnification, unsampled, round_to_pixel_border)\u001b[0m\n\u001b[0;32m    521\u001b[0m mask \u001b[38;5;241m=\u001b[39m (np\u001b[38;5;241m.\u001b[39mwhere(A\u001b[38;5;241m.\u001b[39mmask, np\u001b[38;5;241m.\u001b[39mfloat32(np\u001b[38;5;241m.\u001b[39mnan), np\u001b[38;5;241m.\u001b[39mfloat32(\u001b[38;5;241m1\u001b[39m))\n\u001b[0;32m    522\u001b[0m         \u001b[38;5;28;01mif\u001b[39;00m A\u001b[38;5;241m.\u001b[39mmask\u001b[38;5;241m.\u001b[39mshape \u001b[38;5;241m==\u001b[39m A\u001b[38;5;241m.\u001b[39mshape  \u001b[38;5;66;03m# nontrivial mask\u001b[39;00m\n\u001b[0;32m    523\u001b[0m         \u001b[38;5;28;01melse\u001b[39;00m np\u001b[38;5;241m.\u001b[39mones_like(A, np\u001b[38;5;241m.\u001b[39mfloat32))\n\u001b[0;32m    524\u001b[0m \u001b[38;5;66;03m# we always have to interpolate the mask to account for\u001b[39;00m\n\u001b[0;32m    525\u001b[0m \u001b[38;5;66;03m# non-affine transformations\u001b[39;00m\n\u001b[1;32m--> 526\u001b[0m out_alpha \u001b[38;5;241m=\u001b[39m \u001b[43m_resample\u001b[49m\u001b[43m(\u001b[49m\u001b[38;5;28;43mself\u001b[39;49m\u001b[43m,\u001b[49m\u001b[43m \u001b[49m\u001b[43mmask\u001b[49m\u001b[43m,\u001b[49m\u001b[43m \u001b[49m\u001b[43mout_shape\u001b[49m\u001b[43m,\u001b[49m\u001b[43m \u001b[49m\u001b[43mt\u001b[49m\u001b[43m,\u001b[49m\u001b[43m \u001b[49m\u001b[43mresample\u001b[49m\u001b[38;5;241;43m=\u001b[39;49m\u001b[38;5;28;43;01mTrue\u001b[39;49;00m\u001b[43m)\u001b[49m\n\u001b[0;32m    527\u001b[0m \u001b[38;5;28;01mdel\u001b[39;00m mask  \u001b[38;5;66;03m# Make sure we don't use mask anymore!\u001b[39;00m\n\u001b[0;32m    528\u001b[0m \u001b[38;5;66;03m# Agg updates out_alpha in place.  If the pixel has no image\u001b[39;00m\n\u001b[0;32m    529\u001b[0m \u001b[38;5;66;03m# data it will not be updated (and still be 0 as we initialized\u001b[39;00m\n\u001b[0;32m    530\u001b[0m \u001b[38;5;66;03m# it), if input data that would go into that output pixel than\u001b[39;00m\n\u001b[0;32m    531\u001b[0m \u001b[38;5;66;03m# it will be `nan`, if all the input data for a pixel is good\u001b[39;00m\n\u001b[0;32m    532\u001b[0m \u001b[38;5;66;03m# it will be 1, and if there is _some_ good data in that output\u001b[39;00m\n\u001b[0;32m    533\u001b[0m \u001b[38;5;66;03m# pixel it will be between [0, 1] (such as a rotated image).\u001b[39;00m\n",
      "File \u001b[1;32mc:\\Users\\jonat\\AppData\\Local\\Programs\\Python\\Python312\\Lib\\site-packages\\matplotlib\\image.py:208\u001b[0m, in \u001b[0;36m_resample\u001b[1;34m(image_obj, data, out_shape, transform, resample, alpha)\u001b[0m\n\u001b[0;32m    206\u001b[0m \u001b[38;5;28;01mif\u001b[39;00m resample \u001b[38;5;129;01mis\u001b[39;00m \u001b[38;5;28;01mNone\u001b[39;00m:\n\u001b[0;32m    207\u001b[0m     resample \u001b[38;5;241m=\u001b[39m image_obj\u001b[38;5;241m.\u001b[39mget_resample()\n\u001b[1;32m--> 208\u001b[0m \u001b[43m_image\u001b[49m\u001b[38;5;241;43m.\u001b[39;49m\u001b[43mresample\u001b[49m\u001b[43m(\u001b[49m\u001b[43mdata\u001b[49m\u001b[43m,\u001b[49m\u001b[43m \u001b[49m\u001b[43mout\u001b[49m\u001b[43m,\u001b[49m\u001b[43m \u001b[49m\u001b[43mtransform\u001b[49m\u001b[43m,\u001b[49m\n\u001b[0;32m    209\u001b[0m \u001b[43m                \u001b[49m\u001b[43m_interpd_\u001b[49m\u001b[43m[\u001b[49m\u001b[43minterpolation\u001b[49m\u001b[43m]\u001b[49m\u001b[43m,\u001b[49m\n\u001b[0;32m    210\u001b[0m \u001b[43m                \u001b[49m\u001b[43mresample\u001b[49m\u001b[43m,\u001b[49m\n\u001b[0;32m    211\u001b[0m \u001b[43m                \u001b[49m\u001b[43malpha\u001b[49m\u001b[43m,\u001b[49m\n\u001b[0;32m    212\u001b[0m \u001b[43m                \u001b[49m\u001b[43mimage_obj\u001b[49m\u001b[38;5;241;43m.\u001b[39;49m\u001b[43mget_filternorm\u001b[49m\u001b[43m(\u001b[49m\u001b[43m)\u001b[49m\u001b[43m,\u001b[49m\n\u001b[0;32m    213\u001b[0m \u001b[43m                \u001b[49m\u001b[43mimage_obj\u001b[49m\u001b[38;5;241;43m.\u001b[39;49m\u001b[43mget_filterrad\u001b[49m\u001b[43m(\u001b[49m\u001b[43m)\u001b[49m\u001b[43m)\u001b[49m\n\u001b[0;32m    214\u001b[0m \u001b[38;5;28;01mreturn\u001b[39;00m out\n",
      "\u001b[1;31mKeyboardInterrupt\u001b[0m: "
     ]
    }
   ],
   "source": [
    "import matplotlib.pyplot as plt\n",
    "import torchvision.transforms.functional as TF\n",
    "\n",
    "# Function to display an image\n",
    "def imshow(img, title):\n",
    "    plt.figure(figsize=(8, 8))\n",
    "    plt.imshow(img.reshape(28, 28), cmap='gray')  # Resize the image to match the initial size of the MNIST image\n",
    "    plt.title(title)\n",
    "    plt.axis('off')\n",
    "    plt.show()\n",
    "\n",
    "# Function to get misclassified samples\n",
    "def get_misclassified_samples(dataloader, model):\n",
    "    misclassified_samples = []\n",
    "    model.eval()\n",
    "    with torch.no_grad():\n",
    "        for images, labels in dataloader:\n",
    "            outputs = model(images)\n",
    "            predicted = torch.argmax(outputs, dim=1)\n",
    "            misclassified_mask = predicted != labels\n",
    "            misclassified_images = images[misclassified_mask]\n",
    "            misclassified_labels = labels[misclassified_mask]\n",
    "            predicted_labels = predicted[misclassified_mask]\n",
    "            misclassified_samples.extend([(image, true_label, predicted_label) for image, true_label, predicted_label in zip(misclassified_images, misclassified_labels, predicted_labels)])\n",
    "    return misclassified_samples\n",
    "\n",
    "# Obtain misclassified samples\n",
    "misclassified_samples = get_misclassified_samples(test_dataloader, model)\n",
    "\n",
    "# Display misclassified samples\n",
    "for i, (image, true_label, predicted_label) in enumerate(misclassified_samples):\n",
    "    print(f\"Misclassified samples {i+1}:\")\n",
    "    print(f\"Reel classe: {true_label}, Predicted classe: {predicted_label}\")\n",
    "    imshow(image, title=f\"Reel classe: {true_label}, Predicted classe: {predicted_label}\")\n"
   ]
  }
 ],
 "metadata": {
  "kernelspec": {
   "display_name": "Python 3",
   "language": "python",
   "name": "python3"
  },
  "language_info": {
   "codemirror_mode": {
    "name": "ipython",
    "version": 3
   },
   "file_extension": ".py",
   "mimetype": "text/x-python",
   "name": "python",
   "nbconvert_exporter": "python",
   "pygments_lexer": "ipython3",
   "version": "3.12.2"
  }
 },
 "nbformat": 4,
 "nbformat_minor": 2
}
